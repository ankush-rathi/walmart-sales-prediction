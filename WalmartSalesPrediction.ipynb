{
  "nbformat": 4,
  "nbformat_minor": 0,
  "metadata": {
    "colab": {
      "name": "Untitled",
      "provenance": [],
      "collapsed_sections": []
    },
    "kernelspec": {
      "name": "python3",
      "display_name": "Python 3"
    }
  },
  "cells": [
    {
      "cell_type": "markdown",
      "metadata": {
        "id": "wpEcEFlinjCk",
        "colab_type": "text"
      },
      "source": [
        "\n",
        "\n",
        "\n",
        "\n",
        "\n",
        "\n"
      ]
    },
    {
      "cell_type": "code",
      "metadata": {
        "id": "-4KWC5nH6n_2",
        "colab_type": "code",
        "colab": {}
      },
      "source": [
        ""
      ],
      "execution_count": 0,
      "outputs": []
    },
    {
      "cell_type": "code",
      "metadata": {
        "id": "ZNecNkU6_noN",
        "colab_type": "code",
        "colab": {
          "base_uri": "https://localhost:8080/",
          "height": 70
        },
        "outputId": "b66a50c7-cf79-4b77-902c-acf584a6358c"
      },
      "source": [
        "# Import required libraries\n",
        "\n",
        "import numpy as np\n",
        "import pandas as pd\n",
        "import matplotlib.pyplot as plt\n",
        "from sklearn import metrics\n",
        "import seaborn as sns\n",
        "\n",
        "# Reading dataset train.csv into dataframe train \n",
        "train = pd.read_csv('train.csv')"
      ],
      "execution_count": 56,
      "outputs": [
        {
          "output_type": "stream",
          "text": [
            "/usr/local/lib/python3.6/dist-packages/statsmodels/tools/_testing.py:19: FutureWarning: pandas.util.testing is deprecated. Use the functions in the public API at pandas.testing instead.\n",
            "  import pandas.util.testing as tm\n"
          ],
          "name": "stderr"
        }
      ]
    },
    {
      "cell_type": "code",
      "metadata": {
        "id": "ZWbAW4RLAbuu",
        "colab_type": "code",
        "outputId": "48c62700-90e3-46e5-f7ec-ad615d1236fa",
        "colab": {
          "base_uri": "https://localhost:8080/",
          "height": 195
        }
      },
      "source": [
        "# Assigning numeric values to categorical feature\n",
        "train['IsHoliday'] = (train['IsHoliday'] ).astype(int)\n",
        "train.head()\n"
      ],
      "execution_count": 5,
      "outputs": [
        {
          "output_type": "execute_result",
          "data": {
            "text/html": [
              "<div>\n",
              "<style scoped>\n",
              "    .dataframe tbody tr th:only-of-type {\n",
              "        vertical-align: middle;\n",
              "    }\n",
              "\n",
              "    .dataframe tbody tr th {\n",
              "        vertical-align: top;\n",
              "    }\n",
              "\n",
              "    .dataframe thead th {\n",
              "        text-align: right;\n",
              "    }\n",
              "</style>\n",
              "<table border=\"1\" class=\"dataframe\">\n",
              "  <thead>\n",
              "    <tr style=\"text-align: right;\">\n",
              "      <th></th>\n",
              "      <th>Store</th>\n",
              "      <th>Dept</th>\n",
              "      <th>Date</th>\n",
              "      <th>Weekly_Sales</th>\n",
              "      <th>IsHoliday</th>\n",
              "    </tr>\n",
              "  </thead>\n",
              "  <tbody>\n",
              "    <tr>\n",
              "      <th>0</th>\n",
              "      <td>1</td>\n",
              "      <td>1</td>\n",
              "      <td>2010-02-05</td>\n",
              "      <td>24924.50</td>\n",
              "      <td>0</td>\n",
              "    </tr>\n",
              "    <tr>\n",
              "      <th>1</th>\n",
              "      <td>1</td>\n",
              "      <td>1</td>\n",
              "      <td>2010-02-12</td>\n",
              "      <td>46039.49</td>\n",
              "      <td>1</td>\n",
              "    </tr>\n",
              "    <tr>\n",
              "      <th>2</th>\n",
              "      <td>1</td>\n",
              "      <td>1</td>\n",
              "      <td>2010-02-19</td>\n",
              "      <td>41595.55</td>\n",
              "      <td>0</td>\n",
              "    </tr>\n",
              "    <tr>\n",
              "      <th>3</th>\n",
              "      <td>1</td>\n",
              "      <td>1</td>\n",
              "      <td>2010-02-26</td>\n",
              "      <td>19403.54</td>\n",
              "      <td>0</td>\n",
              "    </tr>\n",
              "    <tr>\n",
              "      <th>4</th>\n",
              "      <td>1</td>\n",
              "      <td>1</td>\n",
              "      <td>2010-03-05</td>\n",
              "      <td>21827.90</td>\n",
              "      <td>0</td>\n",
              "    </tr>\n",
              "  </tbody>\n",
              "</table>\n",
              "</div>"
            ],
            "text/plain": [
              "   Store  Dept        Date  Weekly_Sales  IsHoliday\n",
              "0      1     1  2010-02-05      24924.50          0\n",
              "1      1     1  2010-02-12      46039.49          1\n",
              "2      1     1  2010-02-19      41595.55          0\n",
              "3      1     1  2010-02-26      19403.54          0\n",
              "4      1     1  2010-03-05      21827.90          0"
            ]
          },
          "metadata": {
            "tags": []
          },
          "execution_count": 5
        }
      ]
    },
    {
      "cell_type": "code",
      "metadata": {
        "id": "7o0zG_uu6159",
        "colab_type": "code",
        "outputId": "d578ccd5-f658-491c-a6e3-26aad3160787",
        "colab": {
          "base_uri": "https://localhost:8080/",
          "height": 195
        }
      },
      "source": [
        "train.tail()"
      ],
      "execution_count": 6,
      "outputs": [
        {
          "output_type": "execute_result",
          "data": {
            "text/html": [
              "<div>\n",
              "<style scoped>\n",
              "    .dataframe tbody tr th:only-of-type {\n",
              "        vertical-align: middle;\n",
              "    }\n",
              "\n",
              "    .dataframe tbody tr th {\n",
              "        vertical-align: top;\n",
              "    }\n",
              "\n",
              "    .dataframe thead th {\n",
              "        text-align: right;\n",
              "    }\n",
              "</style>\n",
              "<table border=\"1\" class=\"dataframe\">\n",
              "  <thead>\n",
              "    <tr style=\"text-align: right;\">\n",
              "      <th></th>\n",
              "      <th>Store</th>\n",
              "      <th>Dept</th>\n",
              "      <th>Date</th>\n",
              "      <th>Weekly_Sales</th>\n",
              "      <th>IsHoliday</th>\n",
              "    </tr>\n",
              "  </thead>\n",
              "  <tbody>\n",
              "    <tr>\n",
              "      <th>421565</th>\n",
              "      <td>45</td>\n",
              "      <td>98</td>\n",
              "      <td>2012-09-28</td>\n",
              "      <td>508.37</td>\n",
              "      <td>0</td>\n",
              "    </tr>\n",
              "    <tr>\n",
              "      <th>421566</th>\n",
              "      <td>45</td>\n",
              "      <td>98</td>\n",
              "      <td>2012-10-05</td>\n",
              "      <td>628.10</td>\n",
              "      <td>0</td>\n",
              "    </tr>\n",
              "    <tr>\n",
              "      <th>421567</th>\n",
              "      <td>45</td>\n",
              "      <td>98</td>\n",
              "      <td>2012-10-12</td>\n",
              "      <td>1061.02</td>\n",
              "      <td>0</td>\n",
              "    </tr>\n",
              "    <tr>\n",
              "      <th>421568</th>\n",
              "      <td>45</td>\n",
              "      <td>98</td>\n",
              "      <td>2012-10-19</td>\n",
              "      <td>760.01</td>\n",
              "      <td>0</td>\n",
              "    </tr>\n",
              "    <tr>\n",
              "      <th>421569</th>\n",
              "      <td>45</td>\n",
              "      <td>98</td>\n",
              "      <td>2012-10-26</td>\n",
              "      <td>1076.80</td>\n",
              "      <td>0</td>\n",
              "    </tr>\n",
              "  </tbody>\n",
              "</table>\n",
              "</div>"
            ],
            "text/plain": [
              "        Store  Dept        Date  Weekly_Sales  IsHoliday\n",
              "421565     45    98  2012-09-28        508.37          0\n",
              "421566     45    98  2012-10-05        628.10          0\n",
              "421567     45    98  2012-10-12       1061.02          0\n",
              "421568     45    98  2012-10-19        760.01          0\n",
              "421569     45    98  2012-10-26       1076.80          0"
            ]
          },
          "metadata": {
            "tags": []
          },
          "execution_count": 6
        }
      ]
    },
    {
      "cell_type": "code",
      "metadata": {
        "id": "zFD-oFJxlmp0",
        "colab_type": "code",
        "outputId": "2b751755-f455-4538-9f9d-f45668af23a4",
        "colab": {
          "base_uri": "https://localhost:8080/",
          "height": 218
        }
      },
      "source": [
        "train.info()"
      ],
      "execution_count": 7,
      "outputs": [
        {
          "output_type": "stream",
          "text": [
            "<class 'pandas.core.frame.DataFrame'>\n",
            "RangeIndex: 421570 entries, 0 to 421569\n",
            "Data columns (total 5 columns):\n",
            " #   Column        Non-Null Count   Dtype  \n",
            "---  ------        --------------   -----  \n",
            " 0   Store         421570 non-null  int64  \n",
            " 1   Dept          421570 non-null  int64  \n",
            " 2   Date          421570 non-null  object \n",
            " 3   Weekly_Sales  421570 non-null  float64\n",
            " 4   IsHoliday     421570 non-null  int64  \n",
            "dtypes: float64(1), int64(3), object(1)\n",
            "memory usage: 16.1+ MB\n"
          ],
          "name": "stdout"
        }
      ]
    },
    {
      "cell_type": "code",
      "metadata": {
        "id": "E8EWpzcYloL3",
        "colab_type": "code",
        "outputId": "d4dedc57-d718-4b44-8499-f7d6507c0fd4",
        "colab": {
          "base_uri": "https://localhost:8080/",
          "height": 195
        }
      },
      "source": [
        "# Reading dataset test.csv into dataframe test \n",
        "test = pd.read_csv('test.csv')\n",
        "\n",
        "# Assigning numeric values to categorical feature \n",
        "test['IsHoliday'] = (test['IsHoliday'] ).astype(int)\n",
        "\n",
        "test.head()"
      ],
      "execution_count": 8,
      "outputs": [
        {
          "output_type": "execute_result",
          "data": {
            "text/html": [
              "<div>\n",
              "<style scoped>\n",
              "    .dataframe tbody tr th:only-of-type {\n",
              "        vertical-align: middle;\n",
              "    }\n",
              "\n",
              "    .dataframe tbody tr th {\n",
              "        vertical-align: top;\n",
              "    }\n",
              "\n",
              "    .dataframe thead th {\n",
              "        text-align: right;\n",
              "    }\n",
              "</style>\n",
              "<table border=\"1\" class=\"dataframe\">\n",
              "  <thead>\n",
              "    <tr style=\"text-align: right;\">\n",
              "      <th></th>\n",
              "      <th>Store</th>\n",
              "      <th>Dept</th>\n",
              "      <th>Date</th>\n",
              "      <th>IsHoliday</th>\n",
              "    </tr>\n",
              "  </thead>\n",
              "  <tbody>\n",
              "    <tr>\n",
              "      <th>0</th>\n",
              "      <td>1</td>\n",
              "      <td>1</td>\n",
              "      <td>2012-11-02</td>\n",
              "      <td>0</td>\n",
              "    </tr>\n",
              "    <tr>\n",
              "      <th>1</th>\n",
              "      <td>1</td>\n",
              "      <td>1</td>\n",
              "      <td>2012-11-09</td>\n",
              "      <td>0</td>\n",
              "    </tr>\n",
              "    <tr>\n",
              "      <th>2</th>\n",
              "      <td>1</td>\n",
              "      <td>1</td>\n",
              "      <td>2012-11-16</td>\n",
              "      <td>0</td>\n",
              "    </tr>\n",
              "    <tr>\n",
              "      <th>3</th>\n",
              "      <td>1</td>\n",
              "      <td>1</td>\n",
              "      <td>2012-11-23</td>\n",
              "      <td>1</td>\n",
              "    </tr>\n",
              "    <tr>\n",
              "      <th>4</th>\n",
              "      <td>1</td>\n",
              "      <td>1</td>\n",
              "      <td>2012-11-30</td>\n",
              "      <td>0</td>\n",
              "    </tr>\n",
              "  </tbody>\n",
              "</table>\n",
              "</div>"
            ],
            "text/plain": [
              "   Store  Dept        Date  IsHoliday\n",
              "0      1     1  2012-11-02          0\n",
              "1      1     1  2012-11-09          0\n",
              "2      1     1  2012-11-16          0\n",
              "3      1     1  2012-11-23          1\n",
              "4      1     1  2012-11-30          0"
            ]
          },
          "metadata": {
            "tags": []
          },
          "execution_count": 8
        }
      ]
    },
    {
      "cell_type": "code",
      "metadata": {
        "id": "F6DxCqtQlwZR",
        "colab_type": "code",
        "outputId": "1ff4420b-a3e8-432e-aad1-b2dcff1c6b92",
        "colab": {
          "base_uri": "https://localhost:8080/",
          "height": 195
        }
      },
      "source": [
        "test.tail()"
      ],
      "execution_count": 9,
      "outputs": [
        {
          "output_type": "execute_result",
          "data": {
            "text/html": [
              "<div>\n",
              "<style scoped>\n",
              "    .dataframe tbody tr th:only-of-type {\n",
              "        vertical-align: middle;\n",
              "    }\n",
              "\n",
              "    .dataframe tbody tr th {\n",
              "        vertical-align: top;\n",
              "    }\n",
              "\n",
              "    .dataframe thead th {\n",
              "        text-align: right;\n",
              "    }\n",
              "</style>\n",
              "<table border=\"1\" class=\"dataframe\">\n",
              "  <thead>\n",
              "    <tr style=\"text-align: right;\">\n",
              "      <th></th>\n",
              "      <th>Store</th>\n",
              "      <th>Dept</th>\n",
              "      <th>Date</th>\n",
              "      <th>IsHoliday</th>\n",
              "    </tr>\n",
              "  </thead>\n",
              "  <tbody>\n",
              "    <tr>\n",
              "      <th>115059</th>\n",
              "      <td>45</td>\n",
              "      <td>98</td>\n",
              "      <td>2013-06-28</td>\n",
              "      <td>0</td>\n",
              "    </tr>\n",
              "    <tr>\n",
              "      <th>115060</th>\n",
              "      <td>45</td>\n",
              "      <td>98</td>\n",
              "      <td>2013-07-05</td>\n",
              "      <td>0</td>\n",
              "    </tr>\n",
              "    <tr>\n",
              "      <th>115061</th>\n",
              "      <td>45</td>\n",
              "      <td>98</td>\n",
              "      <td>2013-07-12</td>\n",
              "      <td>0</td>\n",
              "    </tr>\n",
              "    <tr>\n",
              "      <th>115062</th>\n",
              "      <td>45</td>\n",
              "      <td>98</td>\n",
              "      <td>2013-07-19</td>\n",
              "      <td>0</td>\n",
              "    </tr>\n",
              "    <tr>\n",
              "      <th>115063</th>\n",
              "      <td>45</td>\n",
              "      <td>98</td>\n",
              "      <td>2013-07-26</td>\n",
              "      <td>0</td>\n",
              "    </tr>\n",
              "  </tbody>\n",
              "</table>\n",
              "</div>"
            ],
            "text/plain": [
              "        Store  Dept        Date  IsHoliday\n",
              "115059     45    98  2013-06-28          0\n",
              "115060     45    98  2013-07-05          0\n",
              "115061     45    98  2013-07-12          0\n",
              "115062     45    98  2013-07-19          0\n",
              "115063     45    98  2013-07-26          0"
            ]
          },
          "metadata": {
            "tags": []
          },
          "execution_count": 9
        }
      ]
    },
    {
      "cell_type": "code",
      "metadata": {
        "id": "M3ElbzPWl0QZ",
        "colab_type": "code",
        "outputId": "cc946d40-0c2d-4b73-f193-31969377d750",
        "colab": {
          "base_uri": "https://localhost:8080/",
          "height": 195
        }
      },
      "source": [
        "# Reading dataset features.csv into dataframe feat\n",
        "feat = pd.read_csv('features.csv')\n",
        "feat.head()"
      ],
      "execution_count": 10,
      "outputs": [
        {
          "output_type": "execute_result",
          "data": {
            "text/html": [
              "<div>\n",
              "<style scoped>\n",
              "    .dataframe tbody tr th:only-of-type {\n",
              "        vertical-align: middle;\n",
              "    }\n",
              "\n",
              "    .dataframe tbody tr th {\n",
              "        vertical-align: top;\n",
              "    }\n",
              "\n",
              "    .dataframe thead th {\n",
              "        text-align: right;\n",
              "    }\n",
              "</style>\n",
              "<table border=\"1\" class=\"dataframe\">\n",
              "  <thead>\n",
              "    <tr style=\"text-align: right;\">\n",
              "      <th></th>\n",
              "      <th>Store</th>\n",
              "      <th>Date</th>\n",
              "      <th>Temperature</th>\n",
              "      <th>Fuel_Price</th>\n",
              "      <th>MarkDown1</th>\n",
              "      <th>MarkDown2</th>\n",
              "      <th>MarkDown3</th>\n",
              "      <th>MarkDown4</th>\n",
              "      <th>MarkDown5</th>\n",
              "      <th>CPI</th>\n",
              "      <th>Unemployment</th>\n",
              "      <th>IsHoliday</th>\n",
              "    </tr>\n",
              "  </thead>\n",
              "  <tbody>\n",
              "    <tr>\n",
              "      <th>0</th>\n",
              "      <td>1</td>\n",
              "      <td>2010-02-05</td>\n",
              "      <td>42.31</td>\n",
              "      <td>2.572</td>\n",
              "      <td>NaN</td>\n",
              "      <td>NaN</td>\n",
              "      <td>NaN</td>\n",
              "      <td>NaN</td>\n",
              "      <td>NaN</td>\n",
              "      <td>211.096358</td>\n",
              "      <td>8.106</td>\n",
              "      <td>False</td>\n",
              "    </tr>\n",
              "    <tr>\n",
              "      <th>1</th>\n",
              "      <td>1</td>\n",
              "      <td>2010-02-12</td>\n",
              "      <td>38.51</td>\n",
              "      <td>2.548</td>\n",
              "      <td>NaN</td>\n",
              "      <td>NaN</td>\n",
              "      <td>NaN</td>\n",
              "      <td>NaN</td>\n",
              "      <td>NaN</td>\n",
              "      <td>211.242170</td>\n",
              "      <td>8.106</td>\n",
              "      <td>True</td>\n",
              "    </tr>\n",
              "    <tr>\n",
              "      <th>2</th>\n",
              "      <td>1</td>\n",
              "      <td>2010-02-19</td>\n",
              "      <td>39.93</td>\n",
              "      <td>2.514</td>\n",
              "      <td>NaN</td>\n",
              "      <td>NaN</td>\n",
              "      <td>NaN</td>\n",
              "      <td>NaN</td>\n",
              "      <td>NaN</td>\n",
              "      <td>211.289143</td>\n",
              "      <td>8.106</td>\n",
              "      <td>False</td>\n",
              "    </tr>\n",
              "    <tr>\n",
              "      <th>3</th>\n",
              "      <td>1</td>\n",
              "      <td>2010-02-26</td>\n",
              "      <td>46.63</td>\n",
              "      <td>2.561</td>\n",
              "      <td>NaN</td>\n",
              "      <td>NaN</td>\n",
              "      <td>NaN</td>\n",
              "      <td>NaN</td>\n",
              "      <td>NaN</td>\n",
              "      <td>211.319643</td>\n",
              "      <td>8.106</td>\n",
              "      <td>False</td>\n",
              "    </tr>\n",
              "    <tr>\n",
              "      <th>4</th>\n",
              "      <td>1</td>\n",
              "      <td>2010-03-05</td>\n",
              "      <td>46.50</td>\n",
              "      <td>2.625</td>\n",
              "      <td>NaN</td>\n",
              "      <td>NaN</td>\n",
              "      <td>NaN</td>\n",
              "      <td>NaN</td>\n",
              "      <td>NaN</td>\n",
              "      <td>211.350143</td>\n",
              "      <td>8.106</td>\n",
              "      <td>False</td>\n",
              "    </tr>\n",
              "  </tbody>\n",
              "</table>\n",
              "</div>"
            ],
            "text/plain": [
              "   Store        Date  Temperature  ...         CPI  Unemployment  IsHoliday\n",
              "0      1  2010-02-05        42.31  ...  211.096358         8.106      False\n",
              "1      1  2010-02-12        38.51  ...  211.242170         8.106       True\n",
              "2      1  2010-02-19        39.93  ...  211.289143         8.106      False\n",
              "3      1  2010-02-26        46.63  ...  211.319643         8.106      False\n",
              "4      1  2010-03-05        46.50  ...  211.350143         8.106      False\n",
              "\n",
              "[5 rows x 12 columns]"
            ]
          },
          "metadata": {
            "tags": []
          },
          "execution_count": 10
        }
      ]
    },
    {
      "cell_type": "code",
      "metadata": {
        "id": "HsjMg3WUl8c_",
        "colab_type": "code",
        "outputId": "d1a7214b-2bc1-4f30-a09b-1e9f0a53ff7b",
        "colab": {
          "base_uri": "https://localhost:8080/",
          "height": 195
        }
      },
      "source": [
        "feat.tail()"
      ],
      "execution_count": 11,
      "outputs": [
        {
          "output_type": "execute_result",
          "data": {
            "text/html": [
              "<div>\n",
              "<style scoped>\n",
              "    .dataframe tbody tr th:only-of-type {\n",
              "        vertical-align: middle;\n",
              "    }\n",
              "\n",
              "    .dataframe tbody tr th {\n",
              "        vertical-align: top;\n",
              "    }\n",
              "\n",
              "    .dataframe thead th {\n",
              "        text-align: right;\n",
              "    }\n",
              "</style>\n",
              "<table border=\"1\" class=\"dataframe\">\n",
              "  <thead>\n",
              "    <tr style=\"text-align: right;\">\n",
              "      <th></th>\n",
              "      <th>Store</th>\n",
              "      <th>Date</th>\n",
              "      <th>Temperature</th>\n",
              "      <th>Fuel_Price</th>\n",
              "      <th>MarkDown1</th>\n",
              "      <th>MarkDown2</th>\n",
              "      <th>MarkDown3</th>\n",
              "      <th>MarkDown4</th>\n",
              "      <th>MarkDown5</th>\n",
              "      <th>CPI</th>\n",
              "      <th>Unemployment</th>\n",
              "      <th>IsHoliday</th>\n",
              "    </tr>\n",
              "  </thead>\n",
              "  <tbody>\n",
              "    <tr>\n",
              "      <th>8185</th>\n",
              "      <td>45</td>\n",
              "      <td>2013-06-28</td>\n",
              "      <td>76.05</td>\n",
              "      <td>3.639</td>\n",
              "      <td>4842.29</td>\n",
              "      <td>975.03</td>\n",
              "      <td>3.00</td>\n",
              "      <td>2449.97</td>\n",
              "      <td>3169.69</td>\n",
              "      <td>NaN</td>\n",
              "      <td>NaN</td>\n",
              "      <td>False</td>\n",
              "    </tr>\n",
              "    <tr>\n",
              "      <th>8186</th>\n",
              "      <td>45</td>\n",
              "      <td>2013-07-05</td>\n",
              "      <td>77.50</td>\n",
              "      <td>3.614</td>\n",
              "      <td>9090.48</td>\n",
              "      <td>2268.58</td>\n",
              "      <td>582.74</td>\n",
              "      <td>5797.47</td>\n",
              "      <td>1514.93</td>\n",
              "      <td>NaN</td>\n",
              "      <td>NaN</td>\n",
              "      <td>False</td>\n",
              "    </tr>\n",
              "    <tr>\n",
              "      <th>8187</th>\n",
              "      <td>45</td>\n",
              "      <td>2013-07-12</td>\n",
              "      <td>79.37</td>\n",
              "      <td>3.614</td>\n",
              "      <td>3789.94</td>\n",
              "      <td>1827.31</td>\n",
              "      <td>85.72</td>\n",
              "      <td>744.84</td>\n",
              "      <td>2150.36</td>\n",
              "      <td>NaN</td>\n",
              "      <td>NaN</td>\n",
              "      <td>False</td>\n",
              "    </tr>\n",
              "    <tr>\n",
              "      <th>8188</th>\n",
              "      <td>45</td>\n",
              "      <td>2013-07-19</td>\n",
              "      <td>82.84</td>\n",
              "      <td>3.737</td>\n",
              "      <td>2961.49</td>\n",
              "      <td>1047.07</td>\n",
              "      <td>204.19</td>\n",
              "      <td>363.00</td>\n",
              "      <td>1059.46</td>\n",
              "      <td>NaN</td>\n",
              "      <td>NaN</td>\n",
              "      <td>False</td>\n",
              "    </tr>\n",
              "    <tr>\n",
              "      <th>8189</th>\n",
              "      <td>45</td>\n",
              "      <td>2013-07-26</td>\n",
              "      <td>76.06</td>\n",
              "      <td>3.804</td>\n",
              "      <td>212.02</td>\n",
              "      <td>851.73</td>\n",
              "      <td>2.06</td>\n",
              "      <td>10.88</td>\n",
              "      <td>1864.57</td>\n",
              "      <td>NaN</td>\n",
              "      <td>NaN</td>\n",
              "      <td>False</td>\n",
              "    </tr>\n",
              "  </tbody>\n",
              "</table>\n",
              "</div>"
            ],
            "text/plain": [
              "      Store        Date  Temperature  ...  CPI  Unemployment  IsHoliday\n",
              "8185     45  2013-06-28        76.05  ...  NaN           NaN      False\n",
              "8186     45  2013-07-05        77.50  ...  NaN           NaN      False\n",
              "8187     45  2013-07-12        79.37  ...  NaN           NaN      False\n",
              "8188     45  2013-07-19        82.84  ...  NaN           NaN      False\n",
              "8189     45  2013-07-26        76.06  ...  NaN           NaN      False\n",
              "\n",
              "[5 rows x 12 columns]"
            ]
          },
          "metadata": {
            "tags": []
          },
          "execution_count": 11
        }
      ]
    },
    {
      "cell_type": "code",
      "metadata": {
        "id": "vhzxlFMwl94V",
        "colab_type": "code",
        "outputId": "62c3278a-3f0d-4641-bb80-70a717389609",
        "colab": {
          "base_uri": "https://localhost:8080/",
          "height": 336
        }
      },
      "source": [
        "feat.info()"
      ],
      "execution_count": 12,
      "outputs": [
        {
          "output_type": "stream",
          "text": [
            "<class 'pandas.core.frame.DataFrame'>\n",
            "RangeIndex: 8190 entries, 0 to 8189\n",
            "Data columns (total 12 columns):\n",
            " #   Column        Non-Null Count  Dtype  \n",
            "---  ------        --------------  -----  \n",
            " 0   Store         8190 non-null   int64  \n",
            " 1   Date          8190 non-null   object \n",
            " 2   Temperature   8190 non-null   float64\n",
            " 3   Fuel_Price    8190 non-null   float64\n",
            " 4   MarkDown1     4032 non-null   float64\n",
            " 5   MarkDown2     2921 non-null   float64\n",
            " 6   MarkDown3     3613 non-null   float64\n",
            " 7   MarkDown4     3464 non-null   float64\n",
            " 8   MarkDown5     4050 non-null   float64\n",
            " 9   CPI           7605 non-null   float64\n",
            " 10  Unemployment  7605 non-null   float64\n",
            " 11  IsHoliday     8190 non-null   bool   \n",
            "dtypes: bool(1), float64(9), int64(1), object(1)\n",
            "memory usage: 712.0+ KB\n"
          ],
          "name": "stdout"
        }
      ]
    },
    {
      "cell_type": "code",
      "metadata": {
        "id": "_jIKFiuyl-3Q",
        "colab_type": "code",
        "colab": {}
      },
      "source": [
        "# Dimensionality Reduction\n",
        "feat = feat.drop(['MarkDown1','MarkDown2','MarkDown3','MarkDown4','MarkDown5'],axis=1)"
      ],
      "execution_count": 0,
      "outputs": []
    },
    {
      "cell_type": "code",
      "metadata": {
        "id": "NWgr4iwDmABd",
        "colab_type": "code",
        "outputId": "66ebf16e-e9d5-4b81-86fb-444adfe1b829",
        "colab": {
          "base_uri": "https://localhost:8080/",
          "height": 402
        }
      },
      "source": [
        "# Assigning numeric values to categorical feature \n",
        "feat['IsHoliday'] = (feat['IsHoliday'] ).astype(int)\n",
        "feat"
      ],
      "execution_count": 14,
      "outputs": [
        {
          "output_type": "execute_result",
          "data": {
            "text/html": [
              "<div>\n",
              "<style scoped>\n",
              "    .dataframe tbody tr th:only-of-type {\n",
              "        vertical-align: middle;\n",
              "    }\n",
              "\n",
              "    .dataframe tbody tr th {\n",
              "        vertical-align: top;\n",
              "    }\n",
              "\n",
              "    .dataframe thead th {\n",
              "        text-align: right;\n",
              "    }\n",
              "</style>\n",
              "<table border=\"1\" class=\"dataframe\">\n",
              "  <thead>\n",
              "    <tr style=\"text-align: right;\">\n",
              "      <th></th>\n",
              "      <th>Store</th>\n",
              "      <th>Date</th>\n",
              "      <th>Temperature</th>\n",
              "      <th>Fuel_Price</th>\n",
              "      <th>CPI</th>\n",
              "      <th>Unemployment</th>\n",
              "      <th>IsHoliday</th>\n",
              "    </tr>\n",
              "  </thead>\n",
              "  <tbody>\n",
              "    <tr>\n",
              "      <th>0</th>\n",
              "      <td>1</td>\n",
              "      <td>2010-02-05</td>\n",
              "      <td>42.31</td>\n",
              "      <td>2.572</td>\n",
              "      <td>211.096358</td>\n",
              "      <td>8.106</td>\n",
              "      <td>0</td>\n",
              "    </tr>\n",
              "    <tr>\n",
              "      <th>1</th>\n",
              "      <td>1</td>\n",
              "      <td>2010-02-12</td>\n",
              "      <td>38.51</td>\n",
              "      <td>2.548</td>\n",
              "      <td>211.242170</td>\n",
              "      <td>8.106</td>\n",
              "      <td>1</td>\n",
              "    </tr>\n",
              "    <tr>\n",
              "      <th>2</th>\n",
              "      <td>1</td>\n",
              "      <td>2010-02-19</td>\n",
              "      <td>39.93</td>\n",
              "      <td>2.514</td>\n",
              "      <td>211.289143</td>\n",
              "      <td>8.106</td>\n",
              "      <td>0</td>\n",
              "    </tr>\n",
              "    <tr>\n",
              "      <th>3</th>\n",
              "      <td>1</td>\n",
              "      <td>2010-02-26</td>\n",
              "      <td>46.63</td>\n",
              "      <td>2.561</td>\n",
              "      <td>211.319643</td>\n",
              "      <td>8.106</td>\n",
              "      <td>0</td>\n",
              "    </tr>\n",
              "    <tr>\n",
              "      <th>4</th>\n",
              "      <td>1</td>\n",
              "      <td>2010-03-05</td>\n",
              "      <td>46.50</td>\n",
              "      <td>2.625</td>\n",
              "      <td>211.350143</td>\n",
              "      <td>8.106</td>\n",
              "      <td>0</td>\n",
              "    </tr>\n",
              "    <tr>\n",
              "      <th>...</th>\n",
              "      <td>...</td>\n",
              "      <td>...</td>\n",
              "      <td>...</td>\n",
              "      <td>...</td>\n",
              "      <td>...</td>\n",
              "      <td>...</td>\n",
              "      <td>...</td>\n",
              "    </tr>\n",
              "    <tr>\n",
              "      <th>8185</th>\n",
              "      <td>45</td>\n",
              "      <td>2013-06-28</td>\n",
              "      <td>76.05</td>\n",
              "      <td>3.639</td>\n",
              "      <td>NaN</td>\n",
              "      <td>NaN</td>\n",
              "      <td>0</td>\n",
              "    </tr>\n",
              "    <tr>\n",
              "      <th>8186</th>\n",
              "      <td>45</td>\n",
              "      <td>2013-07-05</td>\n",
              "      <td>77.50</td>\n",
              "      <td>3.614</td>\n",
              "      <td>NaN</td>\n",
              "      <td>NaN</td>\n",
              "      <td>0</td>\n",
              "    </tr>\n",
              "    <tr>\n",
              "      <th>8187</th>\n",
              "      <td>45</td>\n",
              "      <td>2013-07-12</td>\n",
              "      <td>79.37</td>\n",
              "      <td>3.614</td>\n",
              "      <td>NaN</td>\n",
              "      <td>NaN</td>\n",
              "      <td>0</td>\n",
              "    </tr>\n",
              "    <tr>\n",
              "      <th>8188</th>\n",
              "      <td>45</td>\n",
              "      <td>2013-07-19</td>\n",
              "      <td>82.84</td>\n",
              "      <td>3.737</td>\n",
              "      <td>NaN</td>\n",
              "      <td>NaN</td>\n",
              "      <td>0</td>\n",
              "    </tr>\n",
              "    <tr>\n",
              "      <th>8189</th>\n",
              "      <td>45</td>\n",
              "      <td>2013-07-26</td>\n",
              "      <td>76.06</td>\n",
              "      <td>3.804</td>\n",
              "      <td>NaN</td>\n",
              "      <td>NaN</td>\n",
              "      <td>0</td>\n",
              "    </tr>\n",
              "  </tbody>\n",
              "</table>\n",
              "<p>8190 rows × 7 columns</p>\n",
              "</div>"
            ],
            "text/plain": [
              "      Store        Date  Temperature  ...         CPI  Unemployment  IsHoliday\n",
              "0         1  2010-02-05        42.31  ...  211.096358         8.106          0\n",
              "1         1  2010-02-12        38.51  ...  211.242170         8.106          1\n",
              "2         1  2010-02-19        39.93  ...  211.289143         8.106          0\n",
              "3         1  2010-02-26        46.63  ...  211.319643         8.106          0\n",
              "4         1  2010-03-05        46.50  ...  211.350143         8.106          0\n",
              "...     ...         ...          ...  ...         ...           ...        ...\n",
              "8185     45  2013-06-28        76.05  ...         NaN           NaN          0\n",
              "8186     45  2013-07-05        77.50  ...         NaN           NaN          0\n",
              "8187     45  2013-07-12        79.37  ...         NaN           NaN          0\n",
              "8188     45  2013-07-19        82.84  ...         NaN           NaN          0\n",
              "8189     45  2013-07-26        76.06  ...         NaN           NaN          0\n",
              "\n",
              "[8190 rows x 7 columns]"
            ]
          },
          "metadata": {
            "tags": []
          },
          "execution_count": 14
        }
      ]
    },
    {
      "cell_type": "code",
      "metadata": {
        "id": "TiFrRabnmBCN",
        "colab_type": "code",
        "outputId": "74c3d62f-09da-478a-ba17-c16a6f678d44",
        "colab": {
          "base_uri": "https://localhost:8080/",
          "height": 402
        }
      },
      "source": [
        "# Splitting features dataframe into training feat_train and testing feat_test\n",
        "feat_test = feat[feat['Date']>'2012-10-26']\n",
        "feat_test"
      ],
      "execution_count": 15,
      "outputs": [
        {
          "output_type": "execute_result",
          "data": {
            "text/html": [
              "<div>\n",
              "<style scoped>\n",
              "    .dataframe tbody tr th:only-of-type {\n",
              "        vertical-align: middle;\n",
              "    }\n",
              "\n",
              "    .dataframe tbody tr th {\n",
              "        vertical-align: top;\n",
              "    }\n",
              "\n",
              "    .dataframe thead th {\n",
              "        text-align: right;\n",
              "    }\n",
              "</style>\n",
              "<table border=\"1\" class=\"dataframe\">\n",
              "  <thead>\n",
              "    <tr style=\"text-align: right;\">\n",
              "      <th></th>\n",
              "      <th>Store</th>\n",
              "      <th>Date</th>\n",
              "      <th>Temperature</th>\n",
              "      <th>Fuel_Price</th>\n",
              "      <th>CPI</th>\n",
              "      <th>Unemployment</th>\n",
              "      <th>IsHoliday</th>\n",
              "    </tr>\n",
              "  </thead>\n",
              "  <tbody>\n",
              "    <tr>\n",
              "      <th>143</th>\n",
              "      <td>1</td>\n",
              "      <td>2012-11-02</td>\n",
              "      <td>55.32</td>\n",
              "      <td>3.386</td>\n",
              "      <td>223.462779</td>\n",
              "      <td>6.573</td>\n",
              "      <td>0</td>\n",
              "    </tr>\n",
              "    <tr>\n",
              "      <th>144</th>\n",
              "      <td>1</td>\n",
              "      <td>2012-11-09</td>\n",
              "      <td>61.24</td>\n",
              "      <td>3.314</td>\n",
              "      <td>223.481307</td>\n",
              "      <td>6.573</td>\n",
              "      <td>0</td>\n",
              "    </tr>\n",
              "    <tr>\n",
              "      <th>145</th>\n",
              "      <td>1</td>\n",
              "      <td>2012-11-16</td>\n",
              "      <td>52.92</td>\n",
              "      <td>3.252</td>\n",
              "      <td>223.512911</td>\n",
              "      <td>6.573</td>\n",
              "      <td>0</td>\n",
              "    </tr>\n",
              "    <tr>\n",
              "      <th>146</th>\n",
              "      <td>1</td>\n",
              "      <td>2012-11-23</td>\n",
              "      <td>56.23</td>\n",
              "      <td>3.211</td>\n",
              "      <td>223.561947</td>\n",
              "      <td>6.573</td>\n",
              "      <td>1</td>\n",
              "    </tr>\n",
              "    <tr>\n",
              "      <th>147</th>\n",
              "      <td>1</td>\n",
              "      <td>2012-11-30</td>\n",
              "      <td>52.34</td>\n",
              "      <td>3.207</td>\n",
              "      <td>223.610984</td>\n",
              "      <td>6.573</td>\n",
              "      <td>0</td>\n",
              "    </tr>\n",
              "    <tr>\n",
              "      <th>...</th>\n",
              "      <td>...</td>\n",
              "      <td>...</td>\n",
              "      <td>...</td>\n",
              "      <td>...</td>\n",
              "      <td>...</td>\n",
              "      <td>...</td>\n",
              "      <td>...</td>\n",
              "    </tr>\n",
              "    <tr>\n",
              "      <th>8185</th>\n",
              "      <td>45</td>\n",
              "      <td>2013-06-28</td>\n",
              "      <td>76.05</td>\n",
              "      <td>3.639</td>\n",
              "      <td>NaN</td>\n",
              "      <td>NaN</td>\n",
              "      <td>0</td>\n",
              "    </tr>\n",
              "    <tr>\n",
              "      <th>8186</th>\n",
              "      <td>45</td>\n",
              "      <td>2013-07-05</td>\n",
              "      <td>77.50</td>\n",
              "      <td>3.614</td>\n",
              "      <td>NaN</td>\n",
              "      <td>NaN</td>\n",
              "      <td>0</td>\n",
              "    </tr>\n",
              "    <tr>\n",
              "      <th>8187</th>\n",
              "      <td>45</td>\n",
              "      <td>2013-07-12</td>\n",
              "      <td>79.37</td>\n",
              "      <td>3.614</td>\n",
              "      <td>NaN</td>\n",
              "      <td>NaN</td>\n",
              "      <td>0</td>\n",
              "    </tr>\n",
              "    <tr>\n",
              "      <th>8188</th>\n",
              "      <td>45</td>\n",
              "      <td>2013-07-19</td>\n",
              "      <td>82.84</td>\n",
              "      <td>3.737</td>\n",
              "      <td>NaN</td>\n",
              "      <td>NaN</td>\n",
              "      <td>0</td>\n",
              "    </tr>\n",
              "    <tr>\n",
              "      <th>8189</th>\n",
              "      <td>45</td>\n",
              "      <td>2013-07-26</td>\n",
              "      <td>76.06</td>\n",
              "      <td>3.804</td>\n",
              "      <td>NaN</td>\n",
              "      <td>NaN</td>\n",
              "      <td>0</td>\n",
              "    </tr>\n",
              "  </tbody>\n",
              "</table>\n",
              "<p>1755 rows × 7 columns</p>\n",
              "</div>"
            ],
            "text/plain": [
              "      Store        Date  Temperature  ...         CPI  Unemployment  IsHoliday\n",
              "143       1  2012-11-02        55.32  ...  223.462779         6.573          0\n",
              "144       1  2012-11-09        61.24  ...  223.481307         6.573          0\n",
              "145       1  2012-11-16        52.92  ...  223.512911         6.573          0\n",
              "146       1  2012-11-23        56.23  ...  223.561947         6.573          1\n",
              "147       1  2012-11-30        52.34  ...  223.610984         6.573          0\n",
              "...     ...         ...          ...  ...         ...           ...        ...\n",
              "8185     45  2013-06-28        76.05  ...         NaN           NaN          0\n",
              "8186     45  2013-07-05        77.50  ...         NaN           NaN          0\n",
              "8187     45  2013-07-12        79.37  ...         NaN           NaN          0\n",
              "8188     45  2013-07-19        82.84  ...         NaN           NaN          0\n",
              "8189     45  2013-07-26        76.06  ...         NaN           NaN          0\n",
              "\n",
              "[1755 rows x 7 columns]"
            ]
          },
          "metadata": {
            "tags": []
          },
          "execution_count": 15
        }
      ]
    },
    {
      "cell_type": "code",
      "metadata": {
        "id": "ZQtouLKTmCq6",
        "colab_type": "code",
        "outputId": "8f4de9f5-2736-49e2-a993-fc104678b030",
        "colab": {
          "base_uri": "https://localhost:8080/",
          "height": 402
        }
      },
      "source": [
        "feat_train = feat[feat['Date']<='2012-10-26']\n",
        "feat_train"
      ],
      "execution_count": 16,
      "outputs": [
        {
          "output_type": "execute_result",
          "data": {
            "text/html": [
              "<div>\n",
              "<style scoped>\n",
              "    .dataframe tbody tr th:only-of-type {\n",
              "        vertical-align: middle;\n",
              "    }\n",
              "\n",
              "    .dataframe tbody tr th {\n",
              "        vertical-align: top;\n",
              "    }\n",
              "\n",
              "    .dataframe thead th {\n",
              "        text-align: right;\n",
              "    }\n",
              "</style>\n",
              "<table border=\"1\" class=\"dataframe\">\n",
              "  <thead>\n",
              "    <tr style=\"text-align: right;\">\n",
              "      <th></th>\n",
              "      <th>Store</th>\n",
              "      <th>Date</th>\n",
              "      <th>Temperature</th>\n",
              "      <th>Fuel_Price</th>\n",
              "      <th>CPI</th>\n",
              "      <th>Unemployment</th>\n",
              "      <th>IsHoliday</th>\n",
              "    </tr>\n",
              "  </thead>\n",
              "  <tbody>\n",
              "    <tr>\n",
              "      <th>0</th>\n",
              "      <td>1</td>\n",
              "      <td>2010-02-05</td>\n",
              "      <td>42.31</td>\n",
              "      <td>2.572</td>\n",
              "      <td>211.096358</td>\n",
              "      <td>8.106</td>\n",
              "      <td>0</td>\n",
              "    </tr>\n",
              "    <tr>\n",
              "      <th>1</th>\n",
              "      <td>1</td>\n",
              "      <td>2010-02-12</td>\n",
              "      <td>38.51</td>\n",
              "      <td>2.548</td>\n",
              "      <td>211.242170</td>\n",
              "      <td>8.106</td>\n",
              "      <td>1</td>\n",
              "    </tr>\n",
              "    <tr>\n",
              "      <th>2</th>\n",
              "      <td>1</td>\n",
              "      <td>2010-02-19</td>\n",
              "      <td>39.93</td>\n",
              "      <td>2.514</td>\n",
              "      <td>211.289143</td>\n",
              "      <td>8.106</td>\n",
              "      <td>0</td>\n",
              "    </tr>\n",
              "    <tr>\n",
              "      <th>3</th>\n",
              "      <td>1</td>\n",
              "      <td>2010-02-26</td>\n",
              "      <td>46.63</td>\n",
              "      <td>2.561</td>\n",
              "      <td>211.319643</td>\n",
              "      <td>8.106</td>\n",
              "      <td>0</td>\n",
              "    </tr>\n",
              "    <tr>\n",
              "      <th>4</th>\n",
              "      <td>1</td>\n",
              "      <td>2010-03-05</td>\n",
              "      <td>46.50</td>\n",
              "      <td>2.625</td>\n",
              "      <td>211.350143</td>\n",
              "      <td>8.106</td>\n",
              "      <td>0</td>\n",
              "    </tr>\n",
              "    <tr>\n",
              "      <th>...</th>\n",
              "      <td>...</td>\n",
              "      <td>...</td>\n",
              "      <td>...</td>\n",
              "      <td>...</td>\n",
              "      <td>...</td>\n",
              "      <td>...</td>\n",
              "      <td>...</td>\n",
              "    </tr>\n",
              "    <tr>\n",
              "      <th>8146</th>\n",
              "      <td>45</td>\n",
              "      <td>2012-09-28</td>\n",
              "      <td>64.88</td>\n",
              "      <td>3.997</td>\n",
              "      <td>192.013558</td>\n",
              "      <td>8.684</td>\n",
              "      <td>0</td>\n",
              "    </tr>\n",
              "    <tr>\n",
              "      <th>8147</th>\n",
              "      <td>45</td>\n",
              "      <td>2012-10-05</td>\n",
              "      <td>64.89</td>\n",
              "      <td>3.985</td>\n",
              "      <td>192.170412</td>\n",
              "      <td>8.667</td>\n",
              "      <td>0</td>\n",
              "    </tr>\n",
              "    <tr>\n",
              "      <th>8148</th>\n",
              "      <td>45</td>\n",
              "      <td>2012-10-12</td>\n",
              "      <td>54.47</td>\n",
              "      <td>4.000</td>\n",
              "      <td>192.327265</td>\n",
              "      <td>8.667</td>\n",
              "      <td>0</td>\n",
              "    </tr>\n",
              "    <tr>\n",
              "      <th>8149</th>\n",
              "      <td>45</td>\n",
              "      <td>2012-10-19</td>\n",
              "      <td>56.47</td>\n",
              "      <td>3.969</td>\n",
              "      <td>192.330854</td>\n",
              "      <td>8.667</td>\n",
              "      <td>0</td>\n",
              "    </tr>\n",
              "    <tr>\n",
              "      <th>8150</th>\n",
              "      <td>45</td>\n",
              "      <td>2012-10-26</td>\n",
              "      <td>58.85</td>\n",
              "      <td>3.882</td>\n",
              "      <td>192.308899</td>\n",
              "      <td>8.667</td>\n",
              "      <td>0</td>\n",
              "    </tr>\n",
              "  </tbody>\n",
              "</table>\n",
              "<p>6435 rows × 7 columns</p>\n",
              "</div>"
            ],
            "text/plain": [
              "      Store        Date  Temperature  ...         CPI  Unemployment  IsHoliday\n",
              "0         1  2010-02-05        42.31  ...  211.096358         8.106          0\n",
              "1         1  2010-02-12        38.51  ...  211.242170         8.106          1\n",
              "2         1  2010-02-19        39.93  ...  211.289143         8.106          0\n",
              "3         1  2010-02-26        46.63  ...  211.319643         8.106          0\n",
              "4         1  2010-03-05        46.50  ...  211.350143         8.106          0\n",
              "...     ...         ...          ...  ...         ...           ...        ...\n",
              "8146     45  2012-09-28        64.88  ...  192.013558         8.684          0\n",
              "8147     45  2012-10-05        64.89  ...  192.170412         8.667          0\n",
              "8148     45  2012-10-12        54.47  ...  192.327265         8.667          0\n",
              "8149     45  2012-10-19        56.47  ...  192.330854         8.667          0\n",
              "8150     45  2012-10-26        58.85  ...  192.308899         8.667          0\n",
              "\n",
              "[6435 rows x 7 columns]"
            ]
          },
          "metadata": {
            "tags": []
          },
          "execution_count": 16
        }
      ]
    },
    {
      "cell_type": "code",
      "metadata": {
        "id": "IIl3MjDtmD89",
        "colab_type": "code",
        "outputId": "5d82aace-6aaa-4406-a252-72ad943abf22",
        "colab": {
          "base_uri": "https://localhost:8080/",
          "height": 402
        }
      },
      "source": [
        "train[train['Date']=='2010-02-05']"
      ],
      "execution_count": 17,
      "outputs": [
        {
          "output_type": "execute_result",
          "data": {
            "text/html": [
              "<div>\n",
              "<style scoped>\n",
              "    .dataframe tbody tr th:only-of-type {\n",
              "        vertical-align: middle;\n",
              "    }\n",
              "\n",
              "    .dataframe tbody tr th {\n",
              "        vertical-align: top;\n",
              "    }\n",
              "\n",
              "    .dataframe thead th {\n",
              "        text-align: right;\n",
              "    }\n",
              "</style>\n",
              "<table border=\"1\" class=\"dataframe\">\n",
              "  <thead>\n",
              "    <tr style=\"text-align: right;\">\n",
              "      <th></th>\n",
              "      <th>Store</th>\n",
              "      <th>Dept</th>\n",
              "      <th>Date</th>\n",
              "      <th>Weekly_Sales</th>\n",
              "      <th>IsHoliday</th>\n",
              "    </tr>\n",
              "  </thead>\n",
              "  <tbody>\n",
              "    <tr>\n",
              "      <th>0</th>\n",
              "      <td>1</td>\n",
              "      <td>1</td>\n",
              "      <td>2010-02-05</td>\n",
              "      <td>24924.50</td>\n",
              "      <td>0</td>\n",
              "    </tr>\n",
              "    <tr>\n",
              "      <th>143</th>\n",
              "      <td>1</td>\n",
              "      <td>2</td>\n",
              "      <td>2010-02-05</td>\n",
              "      <td>50605.27</td>\n",
              "      <td>0</td>\n",
              "    </tr>\n",
              "    <tr>\n",
              "      <th>286</th>\n",
              "      <td>1</td>\n",
              "      <td>3</td>\n",
              "      <td>2010-02-05</td>\n",
              "      <td>13740.12</td>\n",
              "      <td>0</td>\n",
              "    </tr>\n",
              "    <tr>\n",
              "      <th>429</th>\n",
              "      <td>1</td>\n",
              "      <td>4</td>\n",
              "      <td>2010-02-05</td>\n",
              "      <td>39954.04</td>\n",
              "      <td>0</td>\n",
              "    </tr>\n",
              "    <tr>\n",
              "      <th>572</th>\n",
              "      <td>1</td>\n",
              "      <td>5</td>\n",
              "      <td>2010-02-05</td>\n",
              "      <td>32229.38</td>\n",
              "      <td>0</td>\n",
              "    </tr>\n",
              "    <tr>\n",
              "      <th>...</th>\n",
              "      <td>...</td>\n",
              "      <td>...</td>\n",
              "      <td>...</td>\n",
              "      <td>...</td>\n",
              "      <td>...</td>\n",
              "    </tr>\n",
              "    <tr>\n",
              "      <th>420727</th>\n",
              "      <td>45</td>\n",
              "      <td>92</td>\n",
              "      <td>2010-02-05</td>\n",
              "      <td>68203.08</td>\n",
              "      <td>0</td>\n",
              "    </tr>\n",
              "    <tr>\n",
              "      <th>420870</th>\n",
              "      <td>45</td>\n",
              "      <td>93</td>\n",
              "      <td>2010-02-05</td>\n",
              "      <td>4002.34</td>\n",
              "      <td>0</td>\n",
              "    </tr>\n",
              "    <tr>\n",
              "      <th>421147</th>\n",
              "      <td>45</td>\n",
              "      <td>95</td>\n",
              "      <td>2010-02-05</td>\n",
              "      <td>63833.63</td>\n",
              "      <td>0</td>\n",
              "    </tr>\n",
              "    <tr>\n",
              "      <th>421292</th>\n",
              "      <td>45</td>\n",
              "      <td>97</td>\n",
              "      <td>2010-02-05</td>\n",
              "      <td>8393.22</td>\n",
              "      <td>0</td>\n",
              "    </tr>\n",
              "    <tr>\n",
              "      <th>421435</th>\n",
              "      <td>45</td>\n",
              "      <td>98</td>\n",
              "      <td>2010-02-05</td>\n",
              "      <td>347.23</td>\n",
              "      <td>0</td>\n",
              "    </tr>\n",
              "  </tbody>\n",
              "</table>\n",
              "<p>2955 rows × 5 columns</p>\n",
              "</div>"
            ],
            "text/plain": [
              "        Store  Dept        Date  Weekly_Sales  IsHoliday\n",
              "0           1     1  2010-02-05      24924.50          0\n",
              "143         1     2  2010-02-05      50605.27          0\n",
              "286         1     3  2010-02-05      13740.12          0\n",
              "429         1     4  2010-02-05      39954.04          0\n",
              "572         1     5  2010-02-05      32229.38          0\n",
              "...       ...   ...         ...           ...        ...\n",
              "420727     45    92  2010-02-05      68203.08          0\n",
              "420870     45    93  2010-02-05       4002.34          0\n",
              "421147     45    95  2010-02-05      63833.63          0\n",
              "421292     45    97  2010-02-05       8393.22          0\n",
              "421435     45    98  2010-02-05        347.23          0\n",
              "\n",
              "[2955 rows x 5 columns]"
            ]
          },
          "metadata": {
            "tags": []
          },
          "execution_count": 17
        }
      ]
    },
    {
      "cell_type": "code",
      "metadata": {
        "id": "VilbMnEvmFRR",
        "colab_type": "code",
        "outputId": "af03bfe9-fbcb-4638-8b7c-5abc15f93a0d",
        "colab": {
          "base_uri": "https://localhost:8080/",
          "height": 218
        }
      },
      "source": [
        "train.info()"
      ],
      "execution_count": 18,
      "outputs": [
        {
          "output_type": "stream",
          "text": [
            "<class 'pandas.core.frame.DataFrame'>\n",
            "RangeIndex: 421570 entries, 0 to 421569\n",
            "Data columns (total 5 columns):\n",
            " #   Column        Non-Null Count   Dtype  \n",
            "---  ------        --------------   -----  \n",
            " 0   Store         421570 non-null  int64  \n",
            " 1   Dept          421570 non-null  int64  \n",
            " 2   Date          421570 non-null  object \n",
            " 3   Weekly_Sales  421570 non-null  float64\n",
            " 4   IsHoliday     421570 non-null  int64  \n",
            "dtypes: float64(1), int64(3), object(1)\n",
            "memory usage: 16.1+ MB\n"
          ],
          "name": "stdout"
        }
      ]
    },
    {
      "cell_type": "code",
      "metadata": {
        "id": "Yjn4P2PimG-8",
        "colab_type": "code",
        "outputId": "612e823e-7110-443f-e4c5-756b6376da85",
        "colab": {
          "base_uri": "https://localhost:8080/",
          "height": 202
        }
      },
      "source": [
        "test.info()"
      ],
      "execution_count": 19,
      "outputs": [
        {
          "output_type": "stream",
          "text": [
            "<class 'pandas.core.frame.DataFrame'>\n",
            "RangeIndex: 115064 entries, 0 to 115063\n",
            "Data columns (total 4 columns):\n",
            " #   Column     Non-Null Count   Dtype \n",
            "---  ------     --------------   ----- \n",
            " 0   Store      115064 non-null  int64 \n",
            " 1   Dept       115064 non-null  int64 \n",
            " 2   Date       115064 non-null  object\n",
            " 3   IsHoliday  115064 non-null  int64 \n",
            "dtypes: int64(3), object(1)\n",
            "memory usage: 3.5+ MB\n"
          ],
          "name": "stdout"
        }
      ]
    },
    {
      "cell_type": "code",
      "metadata": {
        "id": "fWfj5xnAmIJf",
        "colab_type": "code",
        "outputId": "f96065e4-f8aa-4752-82ef-39cd1676b9e7",
        "colab": {
          "base_uri": "https://localhost:8080/",
          "height": 252
        }
      },
      "source": [
        "feat.info()"
      ],
      "execution_count": 20,
      "outputs": [
        {
          "output_type": "stream",
          "text": [
            "<class 'pandas.core.frame.DataFrame'>\n",
            "RangeIndex: 8190 entries, 0 to 8189\n",
            "Data columns (total 7 columns):\n",
            " #   Column        Non-Null Count  Dtype  \n",
            "---  ------        --------------  -----  \n",
            " 0   Store         8190 non-null   int64  \n",
            " 1   Date          8190 non-null   object \n",
            " 2   Temperature   8190 non-null   float64\n",
            " 3   Fuel_Price    8190 non-null   float64\n",
            " 4   CPI           7605 non-null   float64\n",
            " 5   Unemployment  7605 non-null   float64\n",
            " 6   IsHoliday     8190 non-null   int64  \n",
            "dtypes: float64(4), int64(2), object(1)\n",
            "memory usage: 448.0+ KB\n"
          ],
          "name": "stdout"
        }
      ]
    },
    {
      "cell_type": "code",
      "metadata": {
        "id": "hlfPKZoemJx1",
        "colab_type": "code",
        "outputId": "3a5fed99-272b-47ec-e64d-631c05530464",
        "colab": {
          "base_uri": "https://localhost:8080/",
          "height": 252
        }
      },
      "source": [
        "feat_train.info()"
      ],
      "execution_count": 21,
      "outputs": [
        {
          "output_type": "stream",
          "text": [
            "<class 'pandas.core.frame.DataFrame'>\n",
            "Int64Index: 6435 entries, 0 to 8150\n",
            "Data columns (total 7 columns):\n",
            " #   Column        Non-Null Count  Dtype  \n",
            "---  ------        --------------  -----  \n",
            " 0   Store         6435 non-null   int64  \n",
            " 1   Date          6435 non-null   object \n",
            " 2   Temperature   6435 non-null   float64\n",
            " 3   Fuel_Price    6435 non-null   float64\n",
            " 4   CPI           6435 non-null   float64\n",
            " 5   Unemployment  6435 non-null   float64\n",
            " 6   IsHoliday     6435 non-null   int64  \n",
            "dtypes: float64(4), int64(2), object(1)\n",
            "memory usage: 402.2+ KB\n"
          ],
          "name": "stdout"
        }
      ]
    },
    {
      "cell_type": "code",
      "metadata": {
        "id": "gCwxv16AmLDt",
        "colab_type": "code",
        "outputId": "36ac01f3-6117-40a4-f6e7-1845be164444",
        "colab": {
          "base_uri": "https://localhost:8080/",
          "height": 252
        }
      },
      "source": [
        "feat_test.info()"
      ],
      "execution_count": 22,
      "outputs": [
        {
          "output_type": "stream",
          "text": [
            "<class 'pandas.core.frame.DataFrame'>\n",
            "Int64Index: 1755 entries, 143 to 8189\n",
            "Data columns (total 7 columns):\n",
            " #   Column        Non-Null Count  Dtype  \n",
            "---  ------        --------------  -----  \n",
            " 0   Store         1755 non-null   int64  \n",
            " 1   Date          1755 non-null   object \n",
            " 2   Temperature   1755 non-null   float64\n",
            " 3   Fuel_Price    1755 non-null   float64\n",
            " 4   CPI           1170 non-null   float64\n",
            " 5   Unemployment  1170 non-null   float64\n",
            " 6   IsHoliday     1755 non-null   int64  \n",
            "dtypes: float64(4), int64(2), object(1)\n",
            "memory usage: 109.7+ KB\n"
          ],
          "name": "stdout"
        }
      ]
    },
    {
      "cell_type": "code",
      "metadata": {
        "id": "epZ9CuwsmMWz",
        "colab_type": "code",
        "outputId": "c5922346-5cdb-46da-ad36-e12c64eee558",
        "colab": {
          "base_uri": "https://localhost:8080/",
          "height": 101
        }
      },
      "source": [
        "# Filling null values with mean values\n",
        "feat_test['CPI'].fillna(feat_test['CPI'].mean(),inplace=True)"
      ],
      "execution_count": 23,
      "outputs": [
        {
          "output_type": "stream",
          "text": [
            "/usr/local/lib/python3.6/dist-packages/pandas/core/generic.py:6245: SettingWithCopyWarning: \n",
            "A value is trying to be set on a copy of a slice from a DataFrame\n",
            "\n",
            "See the caveats in the documentation: https://pandas.pydata.org/pandas-docs/stable/user_guide/indexing.html#returning-a-view-versus-a-copy\n",
            "  self._update_inplace(new_data)\n"
          ],
          "name": "stderr"
        }
      ]
    },
    {
      "cell_type": "code",
      "metadata": {
        "id": "p2LvkQ9UmNgM",
        "colab_type": "code",
        "outputId": "bdc66ce2-91d2-4425-afae-befb7e4f734b",
        "colab": {
          "base_uri": "https://localhost:8080/",
          "height": 252
        }
      },
      "source": [
        "feat_test.info()"
      ],
      "execution_count": 24,
      "outputs": [
        {
          "output_type": "stream",
          "text": [
            "<class 'pandas.core.frame.DataFrame'>\n",
            "Int64Index: 1755 entries, 143 to 8189\n",
            "Data columns (total 7 columns):\n",
            " #   Column        Non-Null Count  Dtype  \n",
            "---  ------        --------------  -----  \n",
            " 0   Store         1755 non-null   int64  \n",
            " 1   Date          1755 non-null   object \n",
            " 2   Temperature   1755 non-null   float64\n",
            " 3   Fuel_Price    1755 non-null   float64\n",
            " 4   CPI           1755 non-null   float64\n",
            " 5   Unemployment  1170 non-null   float64\n",
            " 6   IsHoliday     1755 non-null   int64  \n",
            "dtypes: float64(4), int64(2), object(1)\n",
            "memory usage: 109.7+ KB\n"
          ],
          "name": "stdout"
        }
      ]
    },
    {
      "cell_type": "code",
      "metadata": {
        "id": "VXihOUwomQYB",
        "colab_type": "code",
        "outputId": "00d6f81a-77be-4d4e-fb08-58187b4dc3e0",
        "colab": {
          "base_uri": "https://localhost:8080/",
          "height": 101
        }
      },
      "source": [
        "# Filling null values with mean values\n",
        "feat_test['Unemployment'].fillna(feat_test['Unemployment'].mean(),inplace=True)"
      ],
      "execution_count": 25,
      "outputs": [
        {
          "output_type": "stream",
          "text": [
            "/usr/local/lib/python3.6/dist-packages/pandas/core/generic.py:6245: SettingWithCopyWarning: \n",
            "A value is trying to be set on a copy of a slice from a DataFrame\n",
            "\n",
            "See the caveats in the documentation: https://pandas.pydata.org/pandas-docs/stable/user_guide/indexing.html#returning-a-view-versus-a-copy\n",
            "  self._update_inplace(new_data)\n"
          ],
          "name": "stderr"
        }
      ]
    },
    {
      "cell_type": "code",
      "metadata": {
        "id": "7tBqGG3QmRwo",
        "colab_type": "code",
        "outputId": "204f27f5-7579-4f11-bd46-48c956795cbe",
        "colab": {
          "base_uri": "https://localhost:8080/",
          "height": 252
        }
      },
      "source": [
        "feat_test.info()"
      ],
      "execution_count": 26,
      "outputs": [
        {
          "output_type": "stream",
          "text": [
            "<class 'pandas.core.frame.DataFrame'>\n",
            "Int64Index: 1755 entries, 143 to 8189\n",
            "Data columns (total 7 columns):\n",
            " #   Column        Non-Null Count  Dtype  \n",
            "---  ------        --------------  -----  \n",
            " 0   Store         1755 non-null   int64  \n",
            " 1   Date          1755 non-null   object \n",
            " 2   Temperature   1755 non-null   float64\n",
            " 3   Fuel_Price    1755 non-null   float64\n",
            " 4   CPI           1755 non-null   float64\n",
            " 5   Unemployment  1755 non-null   float64\n",
            " 6   IsHoliday     1755 non-null   int64  \n",
            "dtypes: float64(4), int64(2), object(1)\n",
            "memory usage: 109.7+ KB\n"
          ],
          "name": "stdout"
        }
      ]
    },
    {
      "cell_type": "code",
      "metadata": {
        "id": "rndGV8XhmUFQ",
        "colab_type": "code",
        "outputId": "d48489b6-cfe0-4560-9993-f2067fa845bb",
        "colab": {
          "base_uri": "https://localhost:8080/",
          "height": 67
        }
      },
      "source": [
        "feat_train.columns"
      ],
      "execution_count": 27,
      "outputs": [
        {
          "output_type": "execute_result",
          "data": {
            "text/plain": [
              "Index(['Store', 'Date', 'Temperature', 'Fuel_Price', 'CPI', 'Unemployment',\n",
              "       'IsHoliday'],\n",
              "      dtype='object')"
            ]
          },
          "metadata": {
            "tags": []
          },
          "execution_count": 27
        }
      ]
    },
    {
      "cell_type": "code",
      "metadata": {
        "id": "10tNDl9tmVhz",
        "colab_type": "code",
        "outputId": "028ab474-755c-4958-d152-5cf1642cd6e6",
        "colab": {
          "base_uri": "https://localhost:8080/",
          "height": 34
        }
      },
      "source": [
        "train.columns"
      ],
      "execution_count": 28,
      "outputs": [
        {
          "output_type": "execute_result",
          "data": {
            "text/plain": [
              "Index(['Store', 'Dept', 'Date', 'Weekly_Sales', 'IsHoliday'], dtype='object')"
            ]
          },
          "metadata": {
            "tags": []
          },
          "execution_count": 28
        }
      ]
    },
    {
      "cell_type": "code",
      "metadata": {
        "id": "jtKbREQamWvx",
        "colab_type": "code",
        "outputId": "dc5a3894-89af-4c25-9980-b309e286eb69",
        "colab": {
          "base_uri": "https://localhost:8080/",
          "height": 195
        }
      },
      "source": [
        "# Getting train_ft dataframe with all training features by merging train and feat_train\n",
        "train_ft = pd.merge(train, feat_train, how='inner', on=['Store','Date'])\n",
        "train_ft.head()"
      ],
      "execution_count": 29,
      "outputs": [
        {
          "output_type": "execute_result",
          "data": {
            "text/html": [
              "<div>\n",
              "<style scoped>\n",
              "    .dataframe tbody tr th:only-of-type {\n",
              "        vertical-align: middle;\n",
              "    }\n",
              "\n",
              "    .dataframe tbody tr th {\n",
              "        vertical-align: top;\n",
              "    }\n",
              "\n",
              "    .dataframe thead th {\n",
              "        text-align: right;\n",
              "    }\n",
              "</style>\n",
              "<table border=\"1\" class=\"dataframe\">\n",
              "  <thead>\n",
              "    <tr style=\"text-align: right;\">\n",
              "      <th></th>\n",
              "      <th>Store</th>\n",
              "      <th>Dept</th>\n",
              "      <th>Date</th>\n",
              "      <th>Weekly_Sales</th>\n",
              "      <th>IsHoliday_x</th>\n",
              "      <th>Temperature</th>\n",
              "      <th>Fuel_Price</th>\n",
              "      <th>CPI</th>\n",
              "      <th>Unemployment</th>\n",
              "      <th>IsHoliday_y</th>\n",
              "    </tr>\n",
              "  </thead>\n",
              "  <tbody>\n",
              "    <tr>\n",
              "      <th>0</th>\n",
              "      <td>1</td>\n",
              "      <td>1</td>\n",
              "      <td>2010-02-05</td>\n",
              "      <td>24924.50</td>\n",
              "      <td>0</td>\n",
              "      <td>42.31</td>\n",
              "      <td>2.572</td>\n",
              "      <td>211.096358</td>\n",
              "      <td>8.106</td>\n",
              "      <td>0</td>\n",
              "    </tr>\n",
              "    <tr>\n",
              "      <th>1</th>\n",
              "      <td>1</td>\n",
              "      <td>2</td>\n",
              "      <td>2010-02-05</td>\n",
              "      <td>50605.27</td>\n",
              "      <td>0</td>\n",
              "      <td>42.31</td>\n",
              "      <td>2.572</td>\n",
              "      <td>211.096358</td>\n",
              "      <td>8.106</td>\n",
              "      <td>0</td>\n",
              "    </tr>\n",
              "    <tr>\n",
              "      <th>2</th>\n",
              "      <td>1</td>\n",
              "      <td>3</td>\n",
              "      <td>2010-02-05</td>\n",
              "      <td>13740.12</td>\n",
              "      <td>0</td>\n",
              "      <td>42.31</td>\n",
              "      <td>2.572</td>\n",
              "      <td>211.096358</td>\n",
              "      <td>8.106</td>\n",
              "      <td>0</td>\n",
              "    </tr>\n",
              "    <tr>\n",
              "      <th>3</th>\n",
              "      <td>1</td>\n",
              "      <td>4</td>\n",
              "      <td>2010-02-05</td>\n",
              "      <td>39954.04</td>\n",
              "      <td>0</td>\n",
              "      <td>42.31</td>\n",
              "      <td>2.572</td>\n",
              "      <td>211.096358</td>\n",
              "      <td>8.106</td>\n",
              "      <td>0</td>\n",
              "    </tr>\n",
              "    <tr>\n",
              "      <th>4</th>\n",
              "      <td>1</td>\n",
              "      <td>5</td>\n",
              "      <td>2010-02-05</td>\n",
              "      <td>32229.38</td>\n",
              "      <td>0</td>\n",
              "      <td>42.31</td>\n",
              "      <td>2.572</td>\n",
              "      <td>211.096358</td>\n",
              "      <td>8.106</td>\n",
              "      <td>0</td>\n",
              "    </tr>\n",
              "  </tbody>\n",
              "</table>\n",
              "</div>"
            ],
            "text/plain": [
              "   Store  Dept        Date  ...         CPI  Unemployment  IsHoliday_y\n",
              "0      1     1  2010-02-05  ...  211.096358         8.106            0\n",
              "1      1     2  2010-02-05  ...  211.096358         8.106            0\n",
              "2      1     3  2010-02-05  ...  211.096358         8.106            0\n",
              "3      1     4  2010-02-05  ...  211.096358         8.106            0\n",
              "4      1     5  2010-02-05  ...  211.096358         8.106            0\n",
              "\n",
              "[5 rows x 10 columns]"
            ]
          },
          "metadata": {
            "tags": []
          },
          "execution_count": 29
        }
      ]
    },
    {
      "cell_type": "code",
      "metadata": {
        "id": "SYhURDLfmYIM",
        "colab_type": "code",
        "colab": {}
      },
      "source": [
        "# Remove extra generated IsHoliday_y column\n",
        "train_ft.drop('IsHoliday_y',axis=1,inplace=True)\n",
        "train_ft.rename(columns={'IsHoliday_x':'IsHoliday'},inplace=True)"
      ],
      "execution_count": 0,
      "outputs": []
    },
    {
      "cell_type": "code",
      "metadata": {
        "id": "NzYR4DxQmZ9P",
        "colab_type": "code",
        "outputId": "7881e0be-c8a6-45b9-c38f-410b60660578",
        "colab": {
          "base_uri": "https://localhost:8080/",
          "height": 195
        }
      },
      "source": [
        "train_ft.head()"
      ],
      "execution_count": 31,
      "outputs": [
        {
          "output_type": "execute_result",
          "data": {
            "text/html": [
              "<div>\n",
              "<style scoped>\n",
              "    .dataframe tbody tr th:only-of-type {\n",
              "        vertical-align: middle;\n",
              "    }\n",
              "\n",
              "    .dataframe tbody tr th {\n",
              "        vertical-align: top;\n",
              "    }\n",
              "\n",
              "    .dataframe thead th {\n",
              "        text-align: right;\n",
              "    }\n",
              "</style>\n",
              "<table border=\"1\" class=\"dataframe\">\n",
              "  <thead>\n",
              "    <tr style=\"text-align: right;\">\n",
              "      <th></th>\n",
              "      <th>Store</th>\n",
              "      <th>Dept</th>\n",
              "      <th>Date</th>\n",
              "      <th>Weekly_Sales</th>\n",
              "      <th>IsHoliday</th>\n",
              "      <th>Temperature</th>\n",
              "      <th>Fuel_Price</th>\n",
              "      <th>CPI</th>\n",
              "      <th>Unemployment</th>\n",
              "    </tr>\n",
              "  </thead>\n",
              "  <tbody>\n",
              "    <tr>\n",
              "      <th>0</th>\n",
              "      <td>1</td>\n",
              "      <td>1</td>\n",
              "      <td>2010-02-05</td>\n",
              "      <td>24924.50</td>\n",
              "      <td>0</td>\n",
              "      <td>42.31</td>\n",
              "      <td>2.572</td>\n",
              "      <td>211.096358</td>\n",
              "      <td>8.106</td>\n",
              "    </tr>\n",
              "    <tr>\n",
              "      <th>1</th>\n",
              "      <td>1</td>\n",
              "      <td>2</td>\n",
              "      <td>2010-02-05</td>\n",
              "      <td>50605.27</td>\n",
              "      <td>0</td>\n",
              "      <td>42.31</td>\n",
              "      <td>2.572</td>\n",
              "      <td>211.096358</td>\n",
              "      <td>8.106</td>\n",
              "    </tr>\n",
              "    <tr>\n",
              "      <th>2</th>\n",
              "      <td>1</td>\n",
              "      <td>3</td>\n",
              "      <td>2010-02-05</td>\n",
              "      <td>13740.12</td>\n",
              "      <td>0</td>\n",
              "      <td>42.31</td>\n",
              "      <td>2.572</td>\n",
              "      <td>211.096358</td>\n",
              "      <td>8.106</td>\n",
              "    </tr>\n",
              "    <tr>\n",
              "      <th>3</th>\n",
              "      <td>1</td>\n",
              "      <td>4</td>\n",
              "      <td>2010-02-05</td>\n",
              "      <td>39954.04</td>\n",
              "      <td>0</td>\n",
              "      <td>42.31</td>\n",
              "      <td>2.572</td>\n",
              "      <td>211.096358</td>\n",
              "      <td>8.106</td>\n",
              "    </tr>\n",
              "    <tr>\n",
              "      <th>4</th>\n",
              "      <td>1</td>\n",
              "      <td>5</td>\n",
              "      <td>2010-02-05</td>\n",
              "      <td>32229.38</td>\n",
              "      <td>0</td>\n",
              "      <td>42.31</td>\n",
              "      <td>2.572</td>\n",
              "      <td>211.096358</td>\n",
              "      <td>8.106</td>\n",
              "    </tr>\n",
              "  </tbody>\n",
              "</table>\n",
              "</div>"
            ],
            "text/plain": [
              "   Store  Dept        Date  ...  Fuel_Price         CPI  Unemployment\n",
              "0      1     1  2010-02-05  ...       2.572  211.096358         8.106\n",
              "1      1     2  2010-02-05  ...       2.572  211.096358         8.106\n",
              "2      1     3  2010-02-05  ...       2.572  211.096358         8.106\n",
              "3      1     4  2010-02-05  ...       2.572  211.096358         8.106\n",
              "4      1     5  2010-02-05  ...       2.572  211.096358         8.106\n",
              "\n",
              "[5 rows x 9 columns]"
            ]
          },
          "metadata": {
            "tags": []
          },
          "execution_count": 31
        }
      ]
    },
    {
      "cell_type": "code",
      "metadata": {
        "id": "rSaVuvxGmbZk",
        "colab_type": "code",
        "outputId": "3e27b171-b2ad-456d-f2a9-c987028da222",
        "colab": {
          "base_uri": "https://localhost:8080/",
          "height": 195
        }
      },
      "source": [
        "# Getting test_ft dataframe with all testing features by merging test and feat_test\n",
        "test_ft = pd.merge(test, feat_test, how='inner', on=['Store','Date'])\n",
        "test_ft.head()\n"
      ],
      "execution_count": 32,
      "outputs": [
        {
          "output_type": "execute_result",
          "data": {
            "text/html": [
              "<div>\n",
              "<style scoped>\n",
              "    .dataframe tbody tr th:only-of-type {\n",
              "        vertical-align: middle;\n",
              "    }\n",
              "\n",
              "    .dataframe tbody tr th {\n",
              "        vertical-align: top;\n",
              "    }\n",
              "\n",
              "    .dataframe thead th {\n",
              "        text-align: right;\n",
              "    }\n",
              "</style>\n",
              "<table border=\"1\" class=\"dataframe\">\n",
              "  <thead>\n",
              "    <tr style=\"text-align: right;\">\n",
              "      <th></th>\n",
              "      <th>Store</th>\n",
              "      <th>Dept</th>\n",
              "      <th>Date</th>\n",
              "      <th>IsHoliday_x</th>\n",
              "      <th>Temperature</th>\n",
              "      <th>Fuel_Price</th>\n",
              "      <th>CPI</th>\n",
              "      <th>Unemployment</th>\n",
              "      <th>IsHoliday_y</th>\n",
              "    </tr>\n",
              "  </thead>\n",
              "  <tbody>\n",
              "    <tr>\n",
              "      <th>0</th>\n",
              "      <td>1</td>\n",
              "      <td>1</td>\n",
              "      <td>2012-11-02</td>\n",
              "      <td>0</td>\n",
              "      <td>55.32</td>\n",
              "      <td>3.386</td>\n",
              "      <td>223.462779</td>\n",
              "      <td>6.573</td>\n",
              "      <td>0</td>\n",
              "    </tr>\n",
              "    <tr>\n",
              "      <th>1</th>\n",
              "      <td>1</td>\n",
              "      <td>2</td>\n",
              "      <td>2012-11-02</td>\n",
              "      <td>0</td>\n",
              "      <td>55.32</td>\n",
              "      <td>3.386</td>\n",
              "      <td>223.462779</td>\n",
              "      <td>6.573</td>\n",
              "      <td>0</td>\n",
              "    </tr>\n",
              "    <tr>\n",
              "      <th>2</th>\n",
              "      <td>1</td>\n",
              "      <td>3</td>\n",
              "      <td>2012-11-02</td>\n",
              "      <td>0</td>\n",
              "      <td>55.32</td>\n",
              "      <td>3.386</td>\n",
              "      <td>223.462779</td>\n",
              "      <td>6.573</td>\n",
              "      <td>0</td>\n",
              "    </tr>\n",
              "    <tr>\n",
              "      <th>3</th>\n",
              "      <td>1</td>\n",
              "      <td>4</td>\n",
              "      <td>2012-11-02</td>\n",
              "      <td>0</td>\n",
              "      <td>55.32</td>\n",
              "      <td>3.386</td>\n",
              "      <td>223.462779</td>\n",
              "      <td>6.573</td>\n",
              "      <td>0</td>\n",
              "    </tr>\n",
              "    <tr>\n",
              "      <th>4</th>\n",
              "      <td>1</td>\n",
              "      <td>5</td>\n",
              "      <td>2012-11-02</td>\n",
              "      <td>0</td>\n",
              "      <td>55.32</td>\n",
              "      <td>3.386</td>\n",
              "      <td>223.462779</td>\n",
              "      <td>6.573</td>\n",
              "      <td>0</td>\n",
              "    </tr>\n",
              "  </tbody>\n",
              "</table>\n",
              "</div>"
            ],
            "text/plain": [
              "   Store  Dept        Date  ...         CPI  Unemployment  IsHoliday_y\n",
              "0      1     1  2012-11-02  ...  223.462779         6.573            0\n",
              "1      1     2  2012-11-02  ...  223.462779         6.573            0\n",
              "2      1     3  2012-11-02  ...  223.462779         6.573            0\n",
              "3      1     4  2012-11-02  ...  223.462779         6.573            0\n",
              "4      1     5  2012-11-02  ...  223.462779         6.573            0\n",
              "\n",
              "[5 rows x 9 columns]"
            ]
          },
          "metadata": {
            "tags": []
          },
          "execution_count": 32
        }
      ]
    },
    {
      "cell_type": "code",
      "metadata": {
        "id": "5rIhlFdYskI7",
        "colab_type": "code",
        "outputId": "3b04c92e-222e-4651-f3d6-92ce4398a4a7",
        "colab": {
          "base_uri": "https://localhost:8080/",
          "height": 195
        }
      },
      "source": [
        "test_ft.tail()"
      ],
      "execution_count": 33,
      "outputs": [
        {
          "output_type": "execute_result",
          "data": {
            "text/html": [
              "<div>\n",
              "<style scoped>\n",
              "    .dataframe tbody tr th:only-of-type {\n",
              "        vertical-align: middle;\n",
              "    }\n",
              "\n",
              "    .dataframe tbody tr th {\n",
              "        vertical-align: top;\n",
              "    }\n",
              "\n",
              "    .dataframe thead th {\n",
              "        text-align: right;\n",
              "    }\n",
              "</style>\n",
              "<table border=\"1\" class=\"dataframe\">\n",
              "  <thead>\n",
              "    <tr style=\"text-align: right;\">\n",
              "      <th></th>\n",
              "      <th>Store</th>\n",
              "      <th>Dept</th>\n",
              "      <th>Date</th>\n",
              "      <th>IsHoliday_x</th>\n",
              "      <th>Temperature</th>\n",
              "      <th>Fuel_Price</th>\n",
              "      <th>CPI</th>\n",
              "      <th>Unemployment</th>\n",
              "      <th>IsHoliday_y</th>\n",
              "    </tr>\n",
              "  </thead>\n",
              "  <tbody>\n",
              "    <tr>\n",
              "      <th>115059</th>\n",
              "      <td>45</td>\n",
              "      <td>93</td>\n",
              "      <td>2013-07-26</td>\n",
              "      <td>0</td>\n",
              "      <td>76.06</td>\n",
              "      <td>3.804</td>\n",
              "      <td>177.314094</td>\n",
              "      <td>6.879006</td>\n",
              "      <td>0</td>\n",
              "    </tr>\n",
              "    <tr>\n",
              "      <th>115060</th>\n",
              "      <td>45</td>\n",
              "      <td>94</td>\n",
              "      <td>2013-07-26</td>\n",
              "      <td>0</td>\n",
              "      <td>76.06</td>\n",
              "      <td>3.804</td>\n",
              "      <td>177.314094</td>\n",
              "      <td>6.879006</td>\n",
              "      <td>0</td>\n",
              "    </tr>\n",
              "    <tr>\n",
              "      <th>115061</th>\n",
              "      <td>45</td>\n",
              "      <td>95</td>\n",
              "      <td>2013-07-26</td>\n",
              "      <td>0</td>\n",
              "      <td>76.06</td>\n",
              "      <td>3.804</td>\n",
              "      <td>177.314094</td>\n",
              "      <td>6.879006</td>\n",
              "      <td>0</td>\n",
              "    </tr>\n",
              "    <tr>\n",
              "      <th>115062</th>\n",
              "      <td>45</td>\n",
              "      <td>97</td>\n",
              "      <td>2013-07-26</td>\n",
              "      <td>0</td>\n",
              "      <td>76.06</td>\n",
              "      <td>3.804</td>\n",
              "      <td>177.314094</td>\n",
              "      <td>6.879006</td>\n",
              "      <td>0</td>\n",
              "    </tr>\n",
              "    <tr>\n",
              "      <th>115063</th>\n",
              "      <td>45</td>\n",
              "      <td>98</td>\n",
              "      <td>2013-07-26</td>\n",
              "      <td>0</td>\n",
              "      <td>76.06</td>\n",
              "      <td>3.804</td>\n",
              "      <td>177.314094</td>\n",
              "      <td>6.879006</td>\n",
              "      <td>0</td>\n",
              "    </tr>\n",
              "  </tbody>\n",
              "</table>\n",
              "</div>"
            ],
            "text/plain": [
              "        Store  Dept        Date  ...         CPI  Unemployment  IsHoliday_y\n",
              "115059     45    93  2013-07-26  ...  177.314094      6.879006            0\n",
              "115060     45    94  2013-07-26  ...  177.314094      6.879006            0\n",
              "115061     45    95  2013-07-26  ...  177.314094      6.879006            0\n",
              "115062     45    97  2013-07-26  ...  177.314094      6.879006            0\n",
              "115063     45    98  2013-07-26  ...  177.314094      6.879006            0\n",
              "\n",
              "[5 rows x 9 columns]"
            ]
          },
          "metadata": {
            "tags": []
          },
          "execution_count": 33
        }
      ]
    },
    {
      "cell_type": "code",
      "metadata": {
        "id": "rNu1kUFFskrF",
        "colab_type": "code",
        "colab": {}
      },
      "source": [
        ""
      ],
      "execution_count": 0,
      "outputs": []
    },
    {
      "cell_type": "code",
      "metadata": {
        "id": "Qn4UoPplmdHY",
        "colab_type": "code",
        "outputId": "372ab650-857a-4077-bad3-e72a96f67b8d",
        "colab": {
          "base_uri": "https://localhost:8080/",
          "height": 195
        }
      },
      "source": [
        "# Remove extra generated IsHoliday_y column\n",
        "test_ft.drop('IsHoliday_y',axis=1,inplace=True)\n",
        "test_ft.rename(columns={'IsHoliday_x':'IsHoliday'},inplace=True)\n",
        "test_ft.head()"
      ],
      "execution_count": 34,
      "outputs": [
        {
          "output_type": "execute_result",
          "data": {
            "text/html": [
              "<div>\n",
              "<style scoped>\n",
              "    .dataframe tbody tr th:only-of-type {\n",
              "        vertical-align: middle;\n",
              "    }\n",
              "\n",
              "    .dataframe tbody tr th {\n",
              "        vertical-align: top;\n",
              "    }\n",
              "\n",
              "    .dataframe thead th {\n",
              "        text-align: right;\n",
              "    }\n",
              "</style>\n",
              "<table border=\"1\" class=\"dataframe\">\n",
              "  <thead>\n",
              "    <tr style=\"text-align: right;\">\n",
              "      <th></th>\n",
              "      <th>Store</th>\n",
              "      <th>Dept</th>\n",
              "      <th>Date</th>\n",
              "      <th>IsHoliday</th>\n",
              "      <th>Temperature</th>\n",
              "      <th>Fuel_Price</th>\n",
              "      <th>CPI</th>\n",
              "      <th>Unemployment</th>\n",
              "    </tr>\n",
              "  </thead>\n",
              "  <tbody>\n",
              "    <tr>\n",
              "      <th>0</th>\n",
              "      <td>1</td>\n",
              "      <td>1</td>\n",
              "      <td>2012-11-02</td>\n",
              "      <td>0</td>\n",
              "      <td>55.32</td>\n",
              "      <td>3.386</td>\n",
              "      <td>223.462779</td>\n",
              "      <td>6.573</td>\n",
              "    </tr>\n",
              "    <tr>\n",
              "      <th>1</th>\n",
              "      <td>1</td>\n",
              "      <td>2</td>\n",
              "      <td>2012-11-02</td>\n",
              "      <td>0</td>\n",
              "      <td>55.32</td>\n",
              "      <td>3.386</td>\n",
              "      <td>223.462779</td>\n",
              "      <td>6.573</td>\n",
              "    </tr>\n",
              "    <tr>\n",
              "      <th>2</th>\n",
              "      <td>1</td>\n",
              "      <td>3</td>\n",
              "      <td>2012-11-02</td>\n",
              "      <td>0</td>\n",
              "      <td>55.32</td>\n",
              "      <td>3.386</td>\n",
              "      <td>223.462779</td>\n",
              "      <td>6.573</td>\n",
              "    </tr>\n",
              "    <tr>\n",
              "      <th>3</th>\n",
              "      <td>1</td>\n",
              "      <td>4</td>\n",
              "      <td>2012-11-02</td>\n",
              "      <td>0</td>\n",
              "      <td>55.32</td>\n",
              "      <td>3.386</td>\n",
              "      <td>223.462779</td>\n",
              "      <td>6.573</td>\n",
              "    </tr>\n",
              "    <tr>\n",
              "      <th>4</th>\n",
              "      <td>1</td>\n",
              "      <td>5</td>\n",
              "      <td>2012-11-02</td>\n",
              "      <td>0</td>\n",
              "      <td>55.32</td>\n",
              "      <td>3.386</td>\n",
              "      <td>223.462779</td>\n",
              "      <td>6.573</td>\n",
              "    </tr>\n",
              "  </tbody>\n",
              "</table>\n",
              "</div>"
            ],
            "text/plain": [
              "   Store  Dept        Date  ...  Fuel_Price         CPI  Unemployment\n",
              "0      1     1  2012-11-02  ...       3.386  223.462779         6.573\n",
              "1      1     2  2012-11-02  ...       3.386  223.462779         6.573\n",
              "2      1     3  2012-11-02  ...       3.386  223.462779         6.573\n",
              "3      1     4  2012-11-02  ...       3.386  223.462779         6.573\n",
              "4      1     5  2012-11-02  ...       3.386  223.462779         6.573\n",
              "\n",
              "[5 rows x 8 columns]"
            ]
          },
          "metadata": {
            "tags": []
          },
          "execution_count": 34
        }
      ]
    },
    {
      "cell_type": "code",
      "metadata": {
        "id": "5k6Sz_HwsqUx",
        "colab_type": "code",
        "outputId": "90e03d6b-74f3-4f86-a44a-a07636fbcd34",
        "colab": {
          "base_uri": "https://localhost:8080/",
          "height": 195
        }
      },
      "source": [
        "test_ft.tail()"
      ],
      "execution_count": 35,
      "outputs": [
        {
          "output_type": "execute_result",
          "data": {
            "text/html": [
              "<div>\n",
              "<style scoped>\n",
              "    .dataframe tbody tr th:only-of-type {\n",
              "        vertical-align: middle;\n",
              "    }\n",
              "\n",
              "    .dataframe tbody tr th {\n",
              "        vertical-align: top;\n",
              "    }\n",
              "\n",
              "    .dataframe thead th {\n",
              "        text-align: right;\n",
              "    }\n",
              "</style>\n",
              "<table border=\"1\" class=\"dataframe\">\n",
              "  <thead>\n",
              "    <tr style=\"text-align: right;\">\n",
              "      <th></th>\n",
              "      <th>Store</th>\n",
              "      <th>Dept</th>\n",
              "      <th>Date</th>\n",
              "      <th>IsHoliday</th>\n",
              "      <th>Temperature</th>\n",
              "      <th>Fuel_Price</th>\n",
              "      <th>CPI</th>\n",
              "      <th>Unemployment</th>\n",
              "    </tr>\n",
              "  </thead>\n",
              "  <tbody>\n",
              "    <tr>\n",
              "      <th>115059</th>\n",
              "      <td>45</td>\n",
              "      <td>93</td>\n",
              "      <td>2013-07-26</td>\n",
              "      <td>0</td>\n",
              "      <td>76.06</td>\n",
              "      <td>3.804</td>\n",
              "      <td>177.314094</td>\n",
              "      <td>6.879006</td>\n",
              "    </tr>\n",
              "    <tr>\n",
              "      <th>115060</th>\n",
              "      <td>45</td>\n",
              "      <td>94</td>\n",
              "      <td>2013-07-26</td>\n",
              "      <td>0</td>\n",
              "      <td>76.06</td>\n",
              "      <td>3.804</td>\n",
              "      <td>177.314094</td>\n",
              "      <td>6.879006</td>\n",
              "    </tr>\n",
              "    <tr>\n",
              "      <th>115061</th>\n",
              "      <td>45</td>\n",
              "      <td>95</td>\n",
              "      <td>2013-07-26</td>\n",
              "      <td>0</td>\n",
              "      <td>76.06</td>\n",
              "      <td>3.804</td>\n",
              "      <td>177.314094</td>\n",
              "      <td>6.879006</td>\n",
              "    </tr>\n",
              "    <tr>\n",
              "      <th>115062</th>\n",
              "      <td>45</td>\n",
              "      <td>97</td>\n",
              "      <td>2013-07-26</td>\n",
              "      <td>0</td>\n",
              "      <td>76.06</td>\n",
              "      <td>3.804</td>\n",
              "      <td>177.314094</td>\n",
              "      <td>6.879006</td>\n",
              "    </tr>\n",
              "    <tr>\n",
              "      <th>115063</th>\n",
              "      <td>45</td>\n",
              "      <td>98</td>\n",
              "      <td>2013-07-26</td>\n",
              "      <td>0</td>\n",
              "      <td>76.06</td>\n",
              "      <td>3.804</td>\n",
              "      <td>177.314094</td>\n",
              "      <td>6.879006</td>\n",
              "    </tr>\n",
              "  </tbody>\n",
              "</table>\n",
              "</div>"
            ],
            "text/plain": [
              "        Store  Dept        Date  ...  Fuel_Price         CPI  Unemployment\n",
              "115059     45    93  2013-07-26  ...       3.804  177.314094      6.879006\n",
              "115060     45    94  2013-07-26  ...       3.804  177.314094      6.879006\n",
              "115061     45    95  2013-07-26  ...       3.804  177.314094      6.879006\n",
              "115062     45    97  2013-07-26  ...       3.804  177.314094      6.879006\n",
              "115063     45    98  2013-07-26  ...       3.804  177.314094      6.879006\n",
              "\n",
              "[5 rows x 8 columns]"
            ]
          },
          "metadata": {
            "tags": []
          },
          "execution_count": 35
        }
      ]
    },
    {
      "cell_type": "code",
      "metadata": {
        "id": "DZDRsopGmeZy",
        "colab_type": "code",
        "outputId": "4f722431-3235-4416-c3f9-601d9c793010",
        "colab": {
          "base_uri": "https://localhost:8080/",
          "height": 195
        }
      },
      "source": [
        "train_ft.head()"
      ],
      "execution_count": 36,
      "outputs": [
        {
          "output_type": "execute_result",
          "data": {
            "text/html": [
              "<div>\n",
              "<style scoped>\n",
              "    .dataframe tbody tr th:only-of-type {\n",
              "        vertical-align: middle;\n",
              "    }\n",
              "\n",
              "    .dataframe tbody tr th {\n",
              "        vertical-align: top;\n",
              "    }\n",
              "\n",
              "    .dataframe thead th {\n",
              "        text-align: right;\n",
              "    }\n",
              "</style>\n",
              "<table border=\"1\" class=\"dataframe\">\n",
              "  <thead>\n",
              "    <tr style=\"text-align: right;\">\n",
              "      <th></th>\n",
              "      <th>Store</th>\n",
              "      <th>Dept</th>\n",
              "      <th>Date</th>\n",
              "      <th>Weekly_Sales</th>\n",
              "      <th>IsHoliday</th>\n",
              "      <th>Temperature</th>\n",
              "      <th>Fuel_Price</th>\n",
              "      <th>CPI</th>\n",
              "      <th>Unemployment</th>\n",
              "    </tr>\n",
              "  </thead>\n",
              "  <tbody>\n",
              "    <tr>\n",
              "      <th>0</th>\n",
              "      <td>1</td>\n",
              "      <td>1</td>\n",
              "      <td>2010-02-05</td>\n",
              "      <td>24924.50</td>\n",
              "      <td>0</td>\n",
              "      <td>42.31</td>\n",
              "      <td>2.572</td>\n",
              "      <td>211.096358</td>\n",
              "      <td>8.106</td>\n",
              "    </tr>\n",
              "    <tr>\n",
              "      <th>1</th>\n",
              "      <td>1</td>\n",
              "      <td>2</td>\n",
              "      <td>2010-02-05</td>\n",
              "      <td>50605.27</td>\n",
              "      <td>0</td>\n",
              "      <td>42.31</td>\n",
              "      <td>2.572</td>\n",
              "      <td>211.096358</td>\n",
              "      <td>8.106</td>\n",
              "    </tr>\n",
              "    <tr>\n",
              "      <th>2</th>\n",
              "      <td>1</td>\n",
              "      <td>3</td>\n",
              "      <td>2010-02-05</td>\n",
              "      <td>13740.12</td>\n",
              "      <td>0</td>\n",
              "      <td>42.31</td>\n",
              "      <td>2.572</td>\n",
              "      <td>211.096358</td>\n",
              "      <td>8.106</td>\n",
              "    </tr>\n",
              "    <tr>\n",
              "      <th>3</th>\n",
              "      <td>1</td>\n",
              "      <td>4</td>\n",
              "      <td>2010-02-05</td>\n",
              "      <td>39954.04</td>\n",
              "      <td>0</td>\n",
              "      <td>42.31</td>\n",
              "      <td>2.572</td>\n",
              "      <td>211.096358</td>\n",
              "      <td>8.106</td>\n",
              "    </tr>\n",
              "    <tr>\n",
              "      <th>4</th>\n",
              "      <td>1</td>\n",
              "      <td>5</td>\n",
              "      <td>2010-02-05</td>\n",
              "      <td>32229.38</td>\n",
              "      <td>0</td>\n",
              "      <td>42.31</td>\n",
              "      <td>2.572</td>\n",
              "      <td>211.096358</td>\n",
              "      <td>8.106</td>\n",
              "    </tr>\n",
              "  </tbody>\n",
              "</table>\n",
              "</div>"
            ],
            "text/plain": [
              "   Store  Dept        Date  ...  Fuel_Price         CPI  Unemployment\n",
              "0      1     1  2010-02-05  ...       2.572  211.096358         8.106\n",
              "1      1     2  2010-02-05  ...       2.572  211.096358         8.106\n",
              "2      1     3  2010-02-05  ...       2.572  211.096358         8.106\n",
              "3      1     4  2010-02-05  ...       2.572  211.096358         8.106\n",
              "4      1     5  2010-02-05  ...       2.572  211.096358         8.106\n",
              "\n",
              "[5 rows x 9 columns]"
            ]
          },
          "metadata": {
            "tags": []
          },
          "execution_count": 36
        }
      ]
    },
    {
      "cell_type": "code",
      "metadata": {
        "id": "XDb9jlGhmf3b",
        "colab_type": "code",
        "colab": {}
      },
      "source": [
        ""
      ],
      "execution_count": 0,
      "outputs": []
    },
    {
      "cell_type": "code",
      "metadata": {
        "id": "aiE4ymssmhZz",
        "colab_type": "code",
        "colab": {}
      },
      "source": [
        ""
      ],
      "execution_count": 0,
      "outputs": []
    },
    {
      "cell_type": "code",
      "metadata": {
        "id": "hmNvQMU3mh-P",
        "colab_type": "code",
        "outputId": "33486e85-d30b-4e76-9ea5-5001308527d3",
        "colab": {
          "base_uri": "https://localhost:8080/",
          "height": 34
        }
      },
      "source": [
        "train_ft.shape"
      ],
      "execution_count": 37,
      "outputs": [
        {
          "output_type": "execute_result",
          "data": {
            "text/plain": [
              "(421570, 9)"
            ]
          },
          "metadata": {
            "tags": []
          },
          "execution_count": 37
        }
      ]
    },
    {
      "cell_type": "code",
      "metadata": {
        "id": "fNER3gPftHny",
        "colab_type": "code",
        "outputId": "db83f132-de5b-41b6-ebe2-04a336013077",
        "colab": {
          "base_uri": "https://localhost:8080/",
          "height": 34
        }
      },
      "source": [
        "test_ft.shape"
      ],
      "execution_count": 38,
      "outputs": [
        {
          "output_type": "execute_result",
          "data": {
            "text/plain": [
              "(115064, 8)"
            ]
          },
          "metadata": {
            "tags": []
          },
          "execution_count": 38
        }
      ]
    },
    {
      "cell_type": "code",
      "metadata": {
        "id": "Mr7RdDKTtPA3",
        "colab_type": "code",
        "colab": {}
      },
      "source": [
        ""
      ],
      "execution_count": 0,
      "outputs": []
    },
    {
      "cell_type": "code",
      "metadata": {
        "id": "u7wS87BBtHq_",
        "colab_type": "code",
        "colab": {}
      },
      "source": [
        ""
      ],
      "execution_count": 0,
      "outputs": []
    },
    {
      "cell_type": "code",
      "metadata": {
        "id": "7RI6LHrBmiGW",
        "colab_type": "code",
        "colab": {}
      },
      "source": [
        "# Separate Date column which has strings into numeric columns and drop Date column\n",
        "\n",
        "train_ft['Date'] = pd.to_datetime(train_ft['Date'])\n",
        "\n",
        "train_ft['Week'] = train_ft['Date'].dt.week\n",
        "#The day of the week with Monday=0, Sunday=6.\n",
        "train_ft['Day_of_week'] =train_ft['Date'].dt.dayofweek\n",
        "\n",
        "train_ft['Month'] =train_ft['Date'].dt.month \n",
        "train_ft['Year'] =train_ft['Date'].dt.year\n",
        "train_ft['Day'] =train_ft['Date'].dt.day \n",
        "\n",
        "train_ft.drop('Date',axis=1,inplace=True)\n",
        "\n",
        "test_ft['Date'] = pd.to_datetime(test_ft['Date'])\n",
        "test_ft['Week'] = test_ft['Date'].dt.week\n",
        "test_ft['Day_of_week'] =test_ft['Date'].dt.dayofweek\n",
        "\n",
        "test_ft['Month'] =test_ft['Date'].dt.month \n",
        "test_ft['Year'] =test_ft['Date'].dt.year\n",
        "test_ft['Day'] =test_ft['Date'].dt.day\n",
        "\n",
        "test_ft.drop('Date',axis=1,inplace=True)"
      ],
      "execution_count": 0,
      "outputs": []
    },
    {
      "cell_type": "code",
      "metadata": {
        "id": "q9Fi-QPIt0yW",
        "colab_type": "code",
        "colab": {}
      },
      "source": [
        ""
      ],
      "execution_count": 0,
      "outputs": []
    },
    {
      "cell_type": "code",
      "metadata": {
        "id": "rSagPF5o37Pc",
        "colab_type": "code",
        "colab": {}
      },
      "source": [
        ""
      ],
      "execution_count": 0,
      "outputs": []
    },
    {
      "cell_type": "code",
      "metadata": {
        "id": "6gu0hVss37SF",
        "colab_type": "code",
        "colab": {}
      },
      "source": [
        ""
      ],
      "execution_count": 0,
      "outputs": []
    },
    {
      "cell_type": "code",
      "metadata": {
        "id": "PADpytlrt1Ci",
        "colab_type": "code",
        "outputId": "1e234a7f-43c0-4f52-e480-97159bd0ccb3",
        "colab": {
          "base_uri": "https://localhost:8080/",
          "height": 34
        }
      },
      "source": [
        "train_ft.shape"
      ],
      "execution_count": 40,
      "outputs": [
        {
          "output_type": "execute_result",
          "data": {
            "text/plain": [
              "(421570, 13)"
            ]
          },
          "metadata": {
            "tags": []
          },
          "execution_count": 40
        }
      ]
    },
    {
      "cell_type": "code",
      "metadata": {
        "id": "H_IsMwyTt3dz",
        "colab_type": "code",
        "outputId": "7169a23c-483c-4847-d73f-80efce03a781",
        "colab": {
          "base_uri": "https://localhost:8080/",
          "height": 34
        }
      },
      "source": [
        "test_ft.shape"
      ],
      "execution_count": 41,
      "outputs": [
        {
          "output_type": "execute_result",
          "data": {
            "text/plain": [
              "(115064, 12)"
            ]
          },
          "metadata": {
            "tags": []
          },
          "execution_count": 41
        }
      ]
    },
    {
      "cell_type": "code",
      "metadata": {
        "id": "RfO6vG_Ut6Fj",
        "colab_type": "code",
        "colab": {}
      },
      "source": [
        ""
      ],
      "execution_count": 0,
      "outputs": []
    },
    {
      "cell_type": "code",
      "metadata": {
        "id": "ipsKT-xFt1RR",
        "colab_type": "code",
        "colab": {}
      },
      "source": [
        ""
      ],
      "execution_count": 0,
      "outputs": []
    },
    {
      "cell_type": "code",
      "metadata": {
        "id": "i7EFuO0_mknm",
        "colab_type": "code",
        "colab": {}
      },
      "source": [
        ""
      ],
      "execution_count": 0,
      "outputs": []
    },
    {
      "cell_type": "code",
      "metadata": {
        "id": "87eVhzwYuZhg",
        "colab_type": "code",
        "colab": {}
      },
      "source": [
        ""
      ],
      "execution_count": 0,
      "outputs": []
    },
    {
      "cell_type": "code",
      "metadata": {
        "id": "WecT9-BB29oc",
        "colab_type": "code",
        "colab": {}
      },
      "source": [
        ""
      ],
      "execution_count": 0,
      "outputs": []
    },
    {
      "cell_type": "code",
      "metadata": {
        "id": "toX0Oufa3Br0",
        "colab_type": "code",
        "colab": {}
      },
      "source": [
        ""
      ],
      "execution_count": 0,
      "outputs": []
    },
    {
      "cell_type": "code",
      "metadata": {
        "id": "I3lIVRCF29rB",
        "colab_type": "code",
        "colab": {}
      },
      "source": [
        ""
      ],
      "execution_count": 0,
      "outputs": []
    },
    {
      "cell_type": "code",
      "metadata": {
        "id": "bmf992-Bml9a",
        "colab_type": "code",
        "outputId": "21bfb458-10d0-4442-ceec-9c4b84570f30",
        "colab": {
          "base_uri": "https://localhost:8080/",
          "height": 195
        }
      },
      "source": [
        "test_ft.tail()"
      ],
      "execution_count": 43,
      "outputs": [
        {
          "output_type": "execute_result",
          "data": {
            "text/html": [
              "<div>\n",
              "<style scoped>\n",
              "    .dataframe tbody tr th:only-of-type {\n",
              "        vertical-align: middle;\n",
              "    }\n",
              "\n",
              "    .dataframe tbody tr th {\n",
              "        vertical-align: top;\n",
              "    }\n",
              "\n",
              "    .dataframe thead th {\n",
              "        text-align: right;\n",
              "    }\n",
              "</style>\n",
              "<table border=\"1\" class=\"dataframe\">\n",
              "  <thead>\n",
              "    <tr style=\"text-align: right;\">\n",
              "      <th></th>\n",
              "      <th>Store</th>\n",
              "      <th>Dept</th>\n",
              "      <th>IsHoliday</th>\n",
              "      <th>Temperature</th>\n",
              "      <th>Fuel_Price</th>\n",
              "      <th>CPI</th>\n",
              "      <th>Unemployment</th>\n",
              "      <th>Week</th>\n",
              "      <th>Day_of_week</th>\n",
              "      <th>Month</th>\n",
              "      <th>Year</th>\n",
              "      <th>Day</th>\n",
              "    </tr>\n",
              "  </thead>\n",
              "  <tbody>\n",
              "    <tr>\n",
              "      <th>115059</th>\n",
              "      <td>45</td>\n",
              "      <td>93</td>\n",
              "      <td>0</td>\n",
              "      <td>76.06</td>\n",
              "      <td>3.804</td>\n",
              "      <td>177.314094</td>\n",
              "      <td>6.879006</td>\n",
              "      <td>30</td>\n",
              "      <td>4</td>\n",
              "      <td>7</td>\n",
              "      <td>2013</td>\n",
              "      <td>26</td>\n",
              "    </tr>\n",
              "    <tr>\n",
              "      <th>115060</th>\n",
              "      <td>45</td>\n",
              "      <td>94</td>\n",
              "      <td>0</td>\n",
              "      <td>76.06</td>\n",
              "      <td>3.804</td>\n",
              "      <td>177.314094</td>\n",
              "      <td>6.879006</td>\n",
              "      <td>30</td>\n",
              "      <td>4</td>\n",
              "      <td>7</td>\n",
              "      <td>2013</td>\n",
              "      <td>26</td>\n",
              "    </tr>\n",
              "    <tr>\n",
              "      <th>115061</th>\n",
              "      <td>45</td>\n",
              "      <td>95</td>\n",
              "      <td>0</td>\n",
              "      <td>76.06</td>\n",
              "      <td>3.804</td>\n",
              "      <td>177.314094</td>\n",
              "      <td>6.879006</td>\n",
              "      <td>30</td>\n",
              "      <td>4</td>\n",
              "      <td>7</td>\n",
              "      <td>2013</td>\n",
              "      <td>26</td>\n",
              "    </tr>\n",
              "    <tr>\n",
              "      <th>115062</th>\n",
              "      <td>45</td>\n",
              "      <td>97</td>\n",
              "      <td>0</td>\n",
              "      <td>76.06</td>\n",
              "      <td>3.804</td>\n",
              "      <td>177.314094</td>\n",
              "      <td>6.879006</td>\n",
              "      <td>30</td>\n",
              "      <td>4</td>\n",
              "      <td>7</td>\n",
              "      <td>2013</td>\n",
              "      <td>26</td>\n",
              "    </tr>\n",
              "    <tr>\n",
              "      <th>115063</th>\n",
              "      <td>45</td>\n",
              "      <td>98</td>\n",
              "      <td>0</td>\n",
              "      <td>76.06</td>\n",
              "      <td>3.804</td>\n",
              "      <td>177.314094</td>\n",
              "      <td>6.879006</td>\n",
              "      <td>30</td>\n",
              "      <td>4</td>\n",
              "      <td>7</td>\n",
              "      <td>2013</td>\n",
              "      <td>26</td>\n",
              "    </tr>\n",
              "  </tbody>\n",
              "</table>\n",
              "</div>"
            ],
            "text/plain": [
              "        Store  Dept  IsHoliday  Temperature  ...  Day_of_week  Month  Year  Day\n",
              "115059     45    93          0        76.06  ...            4      7  2013   26\n",
              "115060     45    94          0        76.06  ...            4      7  2013   26\n",
              "115061     45    95          0        76.06  ...            4      7  2013   26\n",
              "115062     45    97          0        76.06  ...            4      7  2013   26\n",
              "115063     45    98          0        76.06  ...            4      7  2013   26\n",
              "\n",
              "[5 rows x 12 columns]"
            ]
          },
          "metadata": {
            "tags": []
          },
          "execution_count": 43
        }
      ]
    },
    {
      "cell_type": "code",
      "metadata": {
        "id": "2wIaTdV8sy34",
        "colab_type": "code",
        "colab": {}
      },
      "source": [
        ""
      ],
      "execution_count": 0,
      "outputs": []
    },
    {
      "cell_type": "code",
      "metadata": {
        "id": "mOyJ6_lqmm5p",
        "colab_type": "code",
        "colab": {}
      },
      "source": [
        ""
      ],
      "execution_count": 0,
      "outputs": []
    },
    {
      "cell_type": "code",
      "metadata": {
        "id": "w_gUL7OCmm9a",
        "colab_type": "code",
        "colab": {}
      },
      "source": [
        ""
      ],
      "execution_count": 0,
      "outputs": []
    },
    {
      "cell_type": "code",
      "metadata": {
        "id": "Xjn1R69UmnAy",
        "colab_type": "code",
        "colab": {}
      },
      "source": [
        ""
      ],
      "execution_count": 0,
      "outputs": []
    },
    {
      "cell_type": "code",
      "metadata": {
        "id": "lhVeSoNNmnEE",
        "colab_type": "code",
        "colab": {}
      },
      "source": [
        ""
      ],
      "execution_count": 0,
      "outputs": []
    },
    {
      "cell_type": "code",
      "metadata": {
        "id": "DlglENsOmnKm",
        "colab_type": "code",
        "colab": {}
      },
      "source": [
        "# TRAINING MODEL ( LINEAR REGRESSION )"
      ],
      "execution_count": 0,
      "outputs": []
    },
    {
      "cell_type": "code",
      "metadata": {
        "id": "tTdNEePnmogJ",
        "colab_type": "code",
        "colab": {}
      },
      "source": [
        "from sklearn.model_selection import train_test_split\n",
        "\n",
        "X = train_ft.drop('Weekly_Sales',axis=1)\n",
        "y = train_ft['Weekly_Sales']\n",
        "X_train, X_test, y_train, y_test = train_test_split(X, y, test_size=0.3)\n",
        "\n"
      ],
      "execution_count": 0,
      "outputs": []
    },
    {
      "cell_type": "code",
      "metadata": {
        "id": "GY-kRPVLmpft",
        "colab_type": "code",
        "outputId": "5b3bf74d-a1e8-458d-93d2-4dd74e340142",
        "colab": {
          "base_uri": "https://localhost:8080/",
          "height": 34
        }
      },
      "source": [
        "from sklearn.linear_model import LinearRegression\n",
        "lm = LinearRegression()\n",
        "lm.fit(X_train,y_train)\n"
      ],
      "execution_count": 0,
      "outputs": [
        {
          "output_type": "execute_result",
          "data": {
            "text/plain": [
              "LinearRegression(copy_X=True, fit_intercept=True, n_jobs=None, normalize=False)"
            ]
          },
          "metadata": {
            "tags": []
          },
          "execution_count": 226
        }
      ]
    },
    {
      "cell_type": "code",
      "metadata": {
        "id": "MlHlUV4OmrDE",
        "colab_type": "code",
        "outputId": "d2fc4fa2-e41b-41b8-e26d-64b6f3a46400",
        "colab": {
          "base_uri": "https://localhost:8080/",
          "height": 297
        }
      },
      "source": [
        "# Predicting for splitted training dataset \n",
        "\n",
        "pred_lm = lm.predict(X_test)\n",
        "sns.scatterplot(y_test,pred_lm)"
      ],
      "execution_count": 0,
      "outputs": [
        {
          "output_type": "execute_result",
          "data": {
            "text/plain": [
              "<matplotlib.axes._subplots.AxesSubplot at 0x7fc271933f60>"
            ]
          },
          "metadata": {
            "tags": []
          },
          "execution_count": 227
        },
        {
          "output_type": "display_data",
          "data": {
            "image/png": "[encoded data removed]",
            "text/plain": [
              "<Figure size 432x288 with 1 Axes>"
            ]
          },
          "metadata": {
            "tags": [],
            "needs_background": "light"
          }
        }
      ]
    },
    {
      "cell_type": "code",
      "metadata": {
        "id": "KHlT2gCSmsZD",
        "colab_type": "code",
        "outputId": "031bd9eb-fdae-4434-b615-8665e7742cba",
        "colab": {
          "base_uri": "https://localhost:8080/",
          "height": 34
        }
      },
      "source": [
        "print('Accuracy : ',metrics.explained_variance_score(y_test,pred_lm)*100,'%')"
      ],
      "execution_count": 0,
      "outputs": [
        {
          "output_type": "stream",
          "text": [
            "Accuracy :  3.2438337662764383 %\n"
          ],
          "name": "stdout"
        }
      ]
    },
    {
      "cell_type": "code",
      "metadata": {
        "id": "P1T5gAC_m0Xe",
        "colab_type": "code",
        "colab": {}
      },
      "source": [
        ""
      ],
      "execution_count": 0,
      "outputs": []
    },
    {
      "cell_type": "code",
      "metadata": {
        "id": "TiMfwqRhm0rV",
        "colab_type": "code",
        "outputId": "3517b3a5-1472-4430-9790-c4360934b62c",
        "colab": {
          "base_uri": "https://localhost:8080/",
          "height": 134
        }
      },
      "source": [
        "# TRAINING MODEL ( Random Forest )\n",
        "\n",
        "from sklearn.ensemble import RandomForestRegressor\n",
        "rf = RandomForestRegressor(n_estimators=100 )\n",
        "\n",
        "# Fit on training data\n",
        "rf.fit(X_train, y_train)\n",
        "\n"
      ],
      "execution_count": 48,
      "outputs": [
        {
          "output_type": "execute_result",
          "data": {
            "text/plain": [
              "RandomForestRegressor(bootstrap=True, ccp_alpha=0.0, criterion='mse',\n",
              "                      max_depth=None, max_features='auto', max_leaf_nodes=None,\n",
              "                      max_samples=None, min_impurity_decrease=0.0,\n",
              "                      min_impurity_split=None, min_samples_leaf=1,\n",
              "                      min_samples_split=2, min_weight_fraction_leaf=0.0,\n",
              "                      n_estimators=100, n_jobs=None, oob_score=False,\n",
              "                      random_state=None, verbose=0, warm_start=False)"
            ]
          },
          "metadata": {
            "tags": []
          },
          "execution_count": 48
        }
      ]
    },
    {
      "cell_type": "code",
      "metadata": {
        "id": "kNb2rQnFm01y",
        "colab_type": "code",
        "colab": {}
      },
      "source": [
        "pred_rf=rf.predict(X_test)\n"
      ],
      "execution_count": 0,
      "outputs": []
    },
    {
      "cell_type": "code",
      "metadata": {
        "id": "wb0bbDW6NH-C",
        "colab_type": "code",
        "outputId": "bbed0da9-5dc1-4de5-dd1b-b793e5a3b6c2",
        "colab": {
          "base_uri": "https://localhost:8080/",
          "height": 297
        }
      },
      "source": [
        "sns.scatterplot(y_test,pred_rf)"
      ],
      "execution_count": 0,
      "outputs": [
        {
          "output_type": "execute_result",
          "data": {
            "text/plain": [
              "<matplotlib.axes._subplots.AxesSubplot at 0x7fc271a11828>"
            ]
          },
          "metadata": {
            "tags": []
          },
          "execution_count": 231
        },
        {
          "output_type": "display_data",
          "data": {
            "image/png": "[encoded data removed]",
            "text/plain": [
              "<Figure size 432x288 with 1 Axes>"
            ]
          },
          "metadata": {
            "tags": [],
            "needs_background": "light"
          }
        }
      ]
    },
    {
      "cell_type": "code",
      "metadata": {
        "id": "zsCOaX2kNJtI",
        "colab_type": "code",
        "colab": {}
      },
      "source": [
        ""
      ],
      "execution_count": 0,
      "outputs": []
    },
    {
      "cell_type": "code",
      "metadata": {
        "id": "FXKEaA56LHrI",
        "colab_type": "code",
        "outputId": "91cc8e18-821b-4e98-a4d4-1583c3e2e480",
        "colab": {
          "base_uri": "https://localhost:8080/",
          "height": 34
        }
      },
      "source": [
        "print('Accuracy : ',metrics.explained_variance_score(y_test,pred_rf)*100,'%')"
      ],
      "execution_count": 0,
      "outputs": [
        {
          "output_type": "stream",
          "text": [
            "Accuracy :  96.94730259861997 %\n"
          ],
          "name": "stdout"
        }
      ]
    },
    {
      "cell_type": "code",
      "metadata": {
        "id": "z0kiWVG3Kcmn",
        "colab_type": "code",
        "colab": {}
      },
      "source": [
        ""
      ],
      "execution_count": 0,
      "outputs": []
    },
    {
      "cell_type": "code",
      "metadata": {
        "id": "84zw45a1Kco9",
        "colab_type": "code",
        "colab": {}
      },
      "source": [
        ""
      ],
      "execution_count": 0,
      "outputs": []
    },
    {
      "cell_type": "code",
      "metadata": {
        "id": "bzy5AWs7m1X1",
        "colab_type": "code",
        "colab": {}
      },
      "source": [
        ""
      ],
      "execution_count": 0,
      "outputs": []
    },
    {
      "cell_type": "code",
      "metadata": {
        "id": "rlu3FE84m1a3",
        "colab_type": "code",
        "colab": {}
      },
      "source": [
        "# TRAINING MODEL ( DECISION TREE)"
      ],
      "execution_count": 0,
      "outputs": []
    },
    {
      "cell_type": "code",
      "metadata": {
        "id": "4m5mNvocGewS",
        "colab_type": "code",
        "outputId": "d3521bae-0180-46c5-8e82-e31d610b0164",
        "colab": {
          "base_uri": "https://localhost:8080/",
          "height": 118
        }
      },
      "source": [
        "from sklearn.tree import DecisionTreeRegressor\n",
        "dt = DecisionTreeRegressor()\n",
        "\n",
        "# Fit on training data\n",
        "dt.fit(X_train, y_train)\n"
      ],
      "execution_count": 0,
      "outputs": [
        {
          "output_type": "execute_result",
          "data": {
            "text/plain": [
              "DecisionTreeRegressor(ccp_alpha=0.0, criterion='mse', max_depth=None,\n",
              "                      max_features=None, max_leaf_nodes=None,\n",
              "                      min_impurity_decrease=0.0, min_impurity_split=None,\n",
              "                      min_samples_leaf=1, min_samples_split=2,\n",
              "                      min_weight_fraction_leaf=0.0, presort='deprecated',\n",
              "                      random_state=None, splitter='best')"
            ]
          },
          "metadata": {
            "tags": []
          },
          "execution_count": 234
        }
      ]
    },
    {
      "cell_type": "code",
      "metadata": {
        "id": "D-kRvyYNOh2_",
        "colab_type": "code",
        "colab": {}
      },
      "source": [
        "pred_dt=dt.predict(X_test)"
      ],
      "execution_count": 0,
      "outputs": []
    },
    {
      "cell_type": "code",
      "metadata": {
        "id": "n-vcMjD8O5gD",
        "colab_type": "code",
        "outputId": "69de1f9a-3ada-4a89-9f07-fc5d79761b14",
        "colab": {
          "base_uri": "https://localhost:8080/",
          "height": 34
        }
      },
      "source": [
        "print('Accuracy : ',metrics.explained_variance_score(y_test,pred_dt)*100,'%')"
      ],
      "execution_count": 0,
      "outputs": [
        {
          "output_type": "stream",
          "text": [
            "Accuracy :  94.71532452300514 %\n"
          ],
          "name": "stdout"
        }
      ]
    },
    {
      "cell_type": "code",
      "metadata": {
        "id": "cgH4ybZkO9Tv",
        "colab_type": "code",
        "colab": {}
      },
      "source": [
        ""
      ],
      "execution_count": 0,
      "outputs": []
    },
    {
      "cell_type": "code",
      "metadata": {
        "id": "DRSrHLQIGlno",
        "colab_type": "code",
        "colab": {}
      },
      "source": [
        ""
      ],
      "execution_count": 0,
      "outputs": []
    },
    {
      "cell_type": "code",
      "metadata": {
        "id": "Xt-WwXTzm1eB",
        "colab_type": "code",
        "colab": {}
      },
      "source": [
        "# TRAINING MODEL (  KNN Regressor  )"
      ],
      "execution_count": 0,
      "outputs": []
    },
    {
      "cell_type": "code",
      "metadata": {
        "id": "BQKEV3zjm6Vq",
        "colab_type": "code",
        "outputId": "0127555d-0d69-4e9c-a8be-5b26257a2999",
        "colab": {
          "base_uri": "https://localhost:8080/",
          "height": 67
        }
      },
      "source": [
        "from sklearn.neighbors import KNeighborsRegressor\n",
        "knn = KNeighborsRegressor(n_neighbors=10,n_jobs=4)\n",
        "knn.fit(X_train,y_train)"
      ],
      "execution_count": 0,
      "outputs": [
        {
          "output_type": "execute_result",
          "data": {
            "text/plain": [
              "KNeighborsRegressor(algorithm='auto', leaf_size=30, metric='minkowski',\n",
              "                    metric_params=None, n_jobs=4, n_neighbors=10, p=2,\n",
              "                    weights='uniform')"
            ]
          },
          "metadata": {
            "tags": []
          },
          "execution_count": 238
        }
      ]
    },
    {
      "cell_type": "code",
      "metadata": {
        "id": "uG2wCv1TlVHU",
        "colab_type": "code",
        "colab": {}
      },
      "source": [
        "pred_knn = knn.predict(X_test)"
      ],
      "execution_count": 0,
      "outputs": []
    },
    {
      "cell_type": "code",
      "metadata": {
        "id": "kgwapw-MlXBX",
        "colab_type": "code",
        "outputId": "f14bf409-96bc-4327-bada-40bf1955b324",
        "colab": {
          "base_uri": "https://localhost:8080/",
          "height": 34
        }
      },
      "source": [
        "print('Accuracy : ',metrics.explained_variance_score(y_test,pred_knn)*100,'%')"
      ],
      "execution_count": 0,
      "outputs": [
        {
          "output_type": "stream",
          "text": [
            "Accuracy :  35.370124812184066 %\n"
          ],
          "name": "stdout"
        }
      ]
    },
    {
      "cell_type": "code",
      "metadata": {
        "id": "irUTMpORm7WX",
        "colab_type": "code",
        "colab": {}
      },
      "source": [
        ""
      ],
      "execution_count": 0,
      "outputs": []
    },
    {
      "cell_type": "code",
      "metadata": {
        "id": "TgGnJm1ultec",
        "colab_type": "code",
        "colab": {}
      },
      "source": [
        ""
      ],
      "execution_count": 0,
      "outputs": []
    },
    {
      "cell_type": "code",
      "metadata": {
        "id": "r8sBpa-5lthP",
        "colab_type": "code",
        "colab": {}
      },
      "source": [
        ""
      ],
      "execution_count": 0,
      "outputs": []
    },
    {
      "cell_type": "markdown",
      "metadata": {
        "id": "KtvDYnLTblLS",
        "colab_type": "text"
      },
      "source": [
        "# Accuracies achieved on different models\n",
        "\n",
        "   Linear Regression - 03.24 %    \n",
        "   KNN Regression    - 35.37 %    \n",
        "   Decision Tree     - 94.72 %    \n",
        "   Random Forest     - 96.95 %   \n",
        "  "
      ]
    },
    {
      "cell_type": "code",
      "metadata": {
        "id": "7GSLXmVRqbmn",
        "colab_type": "code",
        "colab": {}
      },
      "source": [
        ""
      ],
      "execution_count": 0,
      "outputs": []
    },
    {
      "cell_type": "code",
      "metadata": {
        "id": "uV9NtCfpltka",
        "colab_type": "code",
        "colab": {}
      },
      "source": [
        ""
      ],
      "execution_count": 0,
      "outputs": []
    },
    {
      "cell_type": "code",
      "metadata": {
        "id": "-Fuek_rdltmi",
        "colab_type": "code",
        "colab": {}
      },
      "source": [
        "# Predictions on Testing values ie future values"
      ],
      "execution_count": 0,
      "outputs": []
    },
    {
      "cell_type": "code",
      "metadata": {
        "id": "5G7qttcgmlk_",
        "colab_type": "code",
        "outputId": "08ce9b3d-e566-41a4-c6c5-00e6ced8f0a8",
        "colab": {
          "base_uri": "https://localhost:8080/",
          "height": 195
        }
      },
      "source": [
        "test_ft.head()"
      ],
      "execution_count": 50,
      "outputs": [
        {
          "output_type": "execute_result",
          "data": {
            "text/html": [
              "<div>\n",
              "<style scoped>\n",
              "    .dataframe tbody tr th:only-of-type {\n",
              "        vertical-align: middle;\n",
              "    }\n",
              "\n",
              "    .dataframe tbody tr th {\n",
              "        vertical-align: top;\n",
              "    }\n",
              "\n",
              "    .dataframe thead th {\n",
              "        text-align: right;\n",
              "    }\n",
              "</style>\n",
              "<table border=\"1\" class=\"dataframe\">\n",
              "  <thead>\n",
              "    <tr style=\"text-align: right;\">\n",
              "      <th></th>\n",
              "      <th>Store</th>\n",
              "      <th>Dept</th>\n",
              "      <th>IsHoliday</th>\n",
              "      <th>Temperature</th>\n",
              "      <th>Fuel_Price</th>\n",
              "      <th>CPI</th>\n",
              "      <th>Unemployment</th>\n",
              "      <th>Week</th>\n",
              "      <th>Day_of_week</th>\n",
              "      <th>Month</th>\n",
              "      <th>Year</th>\n",
              "      <th>Day</th>\n",
              "    </tr>\n",
              "  </thead>\n",
              "  <tbody>\n",
              "    <tr>\n",
              "      <th>0</th>\n",
              "      <td>1</td>\n",
              "      <td>1</td>\n",
              "      <td>0</td>\n",
              "      <td>55.32</td>\n",
              "      <td>3.386</td>\n",
              "      <td>223.462779</td>\n",
              "      <td>6.573</td>\n",
              "      <td>44</td>\n",
              "      <td>4</td>\n",
              "      <td>11</td>\n",
              "      <td>2012</td>\n",
              "      <td>2</td>\n",
              "    </tr>\n",
              "    <tr>\n",
              "      <th>1</th>\n",
              "      <td>1</td>\n",
              "      <td>2</td>\n",
              "      <td>0</td>\n",
              "      <td>55.32</td>\n",
              "      <td>3.386</td>\n",
              "      <td>223.462779</td>\n",
              "      <td>6.573</td>\n",
              "      <td>44</td>\n",
              "      <td>4</td>\n",
              "      <td>11</td>\n",
              "      <td>2012</td>\n",
              "      <td>2</td>\n",
              "    </tr>\n",
              "    <tr>\n",
              "      <th>2</th>\n",
              "      <td>1</td>\n",
              "      <td>3</td>\n",
              "      <td>0</td>\n",
              "      <td>55.32</td>\n",
              "      <td>3.386</td>\n",
              "      <td>223.462779</td>\n",
              "      <td>6.573</td>\n",
              "      <td>44</td>\n",
              "      <td>4</td>\n",
              "      <td>11</td>\n",
              "      <td>2012</td>\n",
              "      <td>2</td>\n",
              "    </tr>\n",
              "    <tr>\n",
              "      <th>3</th>\n",
              "      <td>1</td>\n",
              "      <td>4</td>\n",
              "      <td>0</td>\n",
              "      <td>55.32</td>\n",
              "      <td>3.386</td>\n",
              "      <td>223.462779</td>\n",
              "      <td>6.573</td>\n",
              "      <td>44</td>\n",
              "      <td>4</td>\n",
              "      <td>11</td>\n",
              "      <td>2012</td>\n",
              "      <td>2</td>\n",
              "    </tr>\n",
              "    <tr>\n",
              "      <th>4</th>\n",
              "      <td>1</td>\n",
              "      <td>5</td>\n",
              "      <td>0</td>\n",
              "      <td>55.32</td>\n",
              "      <td>3.386</td>\n",
              "      <td>223.462779</td>\n",
              "      <td>6.573</td>\n",
              "      <td>44</td>\n",
              "      <td>4</td>\n",
              "      <td>11</td>\n",
              "      <td>2012</td>\n",
              "      <td>2</td>\n",
              "    </tr>\n",
              "  </tbody>\n",
              "</table>\n",
              "</div>"
            ],
            "text/plain": [
              "   Store  Dept  IsHoliday  Temperature  ...  Day_of_week  Month  Year  Day\n",
              "0      1     1          0        55.32  ...            4     11  2012    2\n",
              "1      1     2          0        55.32  ...            4     11  2012    2\n",
              "2      1     3          0        55.32  ...            4     11  2012    2\n",
              "3      1     4          0        55.32  ...            4     11  2012    2\n",
              "4      1     5          0        55.32  ...            4     11  2012    2\n",
              "\n",
              "[5 rows x 12 columns]"
            ]
          },
          "metadata": {
            "tags": []
          },
          "execution_count": 50
        }
      ]
    },
    {
      "cell_type": "code",
      "metadata": {
        "id": "eAp5vZObr0_O",
        "colab_type": "code",
        "outputId": "23e6cdbe-ca2b-4b78-e6ba-52e17dd8fcd4",
        "colab": {
          "base_uri": "https://localhost:8080/",
          "height": 195
        }
      },
      "source": [
        "test_ft.tail()"
      ],
      "execution_count": 0,
      "outputs": [
        {
          "output_type": "execute_result",
          "data": {
            "text/html": [
              "<div>\n",
              "<style scoped>\n",
              "    .dataframe tbody tr th:only-of-type {\n",
              "        vertical-align: middle;\n",
              "    }\n",
              "\n",
              "    .dataframe tbody tr th {\n",
              "        vertical-align: top;\n",
              "    }\n",
              "\n",
              "    .dataframe thead th {\n",
              "        text-align: right;\n",
              "    }\n",
              "</style>\n",
              "<table border=\"1\" class=\"dataframe\">\n",
              "  <thead>\n",
              "    <tr style=\"text-align: right;\">\n",
              "      <th></th>\n",
              "      <th>Store</th>\n",
              "      <th>Dept</th>\n",
              "      <th>IsHoliday</th>\n",
              "      <th>Temperature</th>\n",
              "      <th>Fuel_Price</th>\n",
              "      <th>CPI</th>\n",
              "      <th>Unemployment</th>\n",
              "      <th>Week</th>\n",
              "      <th>Day_of_week</th>\n",
              "      <th>Month</th>\n",
              "      <th>Year</th>\n",
              "      <th>Day</th>\n",
              "    </tr>\n",
              "  </thead>\n",
              "  <tbody>\n",
              "    <tr>\n",
              "      <th>115059</th>\n",
              "      <td>45</td>\n",
              "      <td>93</td>\n",
              "      <td>0</td>\n",
              "      <td>76.06</td>\n",
              "      <td>3.804</td>\n",
              "      <td>177.314094</td>\n",
              "      <td>6.879006</td>\n",
              "      <td>30</td>\n",
              "      <td>4</td>\n",
              "      <td>7</td>\n",
              "      <td>2013</td>\n",
              "      <td>26</td>\n",
              "    </tr>\n",
              "    <tr>\n",
              "      <th>115060</th>\n",
              "      <td>45</td>\n",
              "      <td>94</td>\n",
              "      <td>0</td>\n",
              "      <td>76.06</td>\n",
              "      <td>3.804</td>\n",
              "      <td>177.314094</td>\n",
              "      <td>6.879006</td>\n",
              "      <td>30</td>\n",
              "      <td>4</td>\n",
              "      <td>7</td>\n",
              "      <td>2013</td>\n",
              "      <td>26</td>\n",
              "    </tr>\n",
              "    <tr>\n",
              "      <th>115061</th>\n",
              "      <td>45</td>\n",
              "      <td>95</td>\n",
              "      <td>0</td>\n",
              "      <td>76.06</td>\n",
              "      <td>3.804</td>\n",
              "      <td>177.314094</td>\n",
              "      <td>6.879006</td>\n",
              "      <td>30</td>\n",
              "      <td>4</td>\n",
              "      <td>7</td>\n",
              "      <td>2013</td>\n",
              "      <td>26</td>\n",
              "    </tr>\n",
              "    <tr>\n",
              "      <th>115062</th>\n",
              "      <td>45</td>\n",
              "      <td>97</td>\n",
              "      <td>0</td>\n",
              "      <td>76.06</td>\n",
              "      <td>3.804</td>\n",
              "      <td>177.314094</td>\n",
              "      <td>6.879006</td>\n",
              "      <td>30</td>\n",
              "      <td>4</td>\n",
              "      <td>7</td>\n",
              "      <td>2013</td>\n",
              "      <td>26</td>\n",
              "    </tr>\n",
              "    <tr>\n",
              "      <th>115063</th>\n",
              "      <td>45</td>\n",
              "      <td>98</td>\n",
              "      <td>0</td>\n",
              "      <td>76.06</td>\n",
              "      <td>3.804</td>\n",
              "      <td>177.314094</td>\n",
              "      <td>6.879006</td>\n",
              "      <td>30</td>\n",
              "      <td>4</td>\n",
              "      <td>7</td>\n",
              "      <td>2013</td>\n",
              "      <td>26</td>\n",
              "    </tr>\n",
              "  </tbody>\n",
              "</table>\n",
              "</div>"
            ],
            "text/plain": [
              "        Store  Dept  IsHoliday  Temperature  ...  Day_of_week  Month  Year  Day\n",
              "115059     45    93          0        76.06  ...            4      7  2013   26\n",
              "115060     45    94          0        76.06  ...            4      7  2013   26\n",
              "115061     45    95          0        76.06  ...            4      7  2013   26\n",
              "115062     45    97          0        76.06  ...            4      7  2013   26\n",
              "115063     45    98          0        76.06  ...            4      7  2013   26\n",
              "\n",
              "[5 rows x 12 columns]"
            ]
          },
          "metadata": {
            "tags": []
          },
          "execution_count": 244
        }
      ]
    },
    {
      "cell_type": "code",
      "metadata": {
        "id": "JCPMGEWyzuf0",
        "colab_type": "code",
        "colab": {}
      },
      "source": [
        ""
      ],
      "execution_count": 0,
      "outputs": []
    },
    {
      "cell_type": "code",
      "metadata": {
        "id": "74NlThp7r3RP",
        "colab_type": "code",
        "colab": {}
      },
      "source": [
        ""
      ],
      "execution_count": 0,
      "outputs": []
    },
    {
      "cell_type": "code",
      "metadata": {
        "id": "DGHuIwJLppqI",
        "colab_type": "code",
        "colab": {}
      },
      "source": [
        "X_test_estimation = test_ft\n",
        "pred_estimation = rf.predict(X_test_estimation)"
      ],
      "execution_count": 0,
      "outputs": []
    },
    {
      "cell_type": "code",
      "metadata": {
        "id": "GOIKGqDmq2M3",
        "colab_type": "code",
        "colab": {}
      },
      "source": [
        "# Adding estimated Weekly_Sales to test_ft"
      ],
      "execution_count": 0,
      "outputs": []
    },
    {
      "cell_type": "code",
      "metadata": {
        "id": "eCIV_lVxmlnw",
        "colab_type": "code",
        "colab": {}
      },
      "source": [
        "test_ft['Weekly_Sales_Estimated'] = pred_estimation"
      ],
      "execution_count": 0,
      "outputs": []
    },
    {
      "cell_type": "code",
      "metadata": {
        "id": "u47IdVHfrL61",
        "colab_type": "code",
        "outputId": "1381c02c-5a73-43c6-e6b4-98904881f826",
        "colab": {
          "base_uri": "https://localhost:8080/",
          "height": 402
        }
      },
      "source": [
        "test_ft"
      ],
      "execution_count": 54,
      "outputs": [
        {
          "output_type": "execute_result",
          "data": {
            "text/html": [
              "<div>\n",
              "<style scoped>\n",
              "    .dataframe tbody tr th:only-of-type {\n",
              "        vertical-align: middle;\n",
              "    }\n",
              "\n",
              "    .dataframe tbody tr th {\n",
              "        vertical-align: top;\n",
              "    }\n",
              "\n",
              "    .dataframe thead th {\n",
              "        text-align: right;\n",
              "    }\n",
              "</style>\n",
              "<table border=\"1\" class=\"dataframe\">\n",
              "  <thead>\n",
              "    <tr style=\"text-align: right;\">\n",
              "      <th></th>\n",
              "      <th>Store</th>\n",
              "      <th>Dept</th>\n",
              "      <th>IsHoliday</th>\n",
              "      <th>Temperature</th>\n",
              "      <th>Fuel_Price</th>\n",
              "      <th>CPI</th>\n",
              "      <th>Unemployment</th>\n",
              "      <th>Week</th>\n",
              "      <th>Day_of_week</th>\n",
              "      <th>Month</th>\n",
              "      <th>Year</th>\n",
              "      <th>Day</th>\n",
              "      <th>Weekly_Sales_Estimated</th>\n",
              "    </tr>\n",
              "  </thead>\n",
              "  <tbody>\n",
              "    <tr>\n",
              "      <th>0</th>\n",
              "      <td>1</td>\n",
              "      <td>1</td>\n",
              "      <td>0</td>\n",
              "      <td>55.32</td>\n",
              "      <td>3.386</td>\n",
              "      <td>223.462779</td>\n",
              "      <td>6.573000</td>\n",
              "      <td>44</td>\n",
              "      <td>4</td>\n",
              "      <td>11</td>\n",
              "      <td>2012</td>\n",
              "      <td>2</td>\n",
              "      <td>27814.8137</td>\n",
              "    </tr>\n",
              "    <tr>\n",
              "      <th>1</th>\n",
              "      <td>1</td>\n",
              "      <td>2</td>\n",
              "      <td>0</td>\n",
              "      <td>55.32</td>\n",
              "      <td>3.386</td>\n",
              "      <td>223.462779</td>\n",
              "      <td>6.573000</td>\n",
              "      <td>44</td>\n",
              "      <td>4</td>\n",
              "      <td>11</td>\n",
              "      <td>2012</td>\n",
              "      <td>2</td>\n",
              "      <td>48712.6384</td>\n",
              "    </tr>\n",
              "    <tr>\n",
              "      <th>2</th>\n",
              "      <td>1</td>\n",
              "      <td>3</td>\n",
              "      <td>0</td>\n",
              "      <td>55.32</td>\n",
              "      <td>3.386</td>\n",
              "      <td>223.462779</td>\n",
              "      <td>6.573000</td>\n",
              "      <td>44</td>\n",
              "      <td>4</td>\n",
              "      <td>11</td>\n",
              "      <td>2012</td>\n",
              "      <td>2</td>\n",
              "      <td>10132.0493</td>\n",
              "    </tr>\n",
              "    <tr>\n",
              "      <th>3</th>\n",
              "      <td>1</td>\n",
              "      <td>4</td>\n",
              "      <td>0</td>\n",
              "      <td>55.32</td>\n",
              "      <td>3.386</td>\n",
              "      <td>223.462779</td>\n",
              "      <td>6.573000</td>\n",
              "      <td>44</td>\n",
              "      <td>4</td>\n",
              "      <td>11</td>\n",
              "      <td>2012</td>\n",
              "      <td>2</td>\n",
              "      <td>39047.7000</td>\n",
              "    </tr>\n",
              "    <tr>\n",
              "      <th>4</th>\n",
              "      <td>1</td>\n",
              "      <td>5</td>\n",
              "      <td>0</td>\n",
              "      <td>55.32</td>\n",
              "      <td>3.386</td>\n",
              "      <td>223.462779</td>\n",
              "      <td>6.573000</td>\n",
              "      <td>44</td>\n",
              "      <td>4</td>\n",
              "      <td>11</td>\n",
              "      <td>2012</td>\n",
              "      <td>2</td>\n",
              "      <td>28010.7377</td>\n",
              "    </tr>\n",
              "    <tr>\n",
              "      <th>...</th>\n",
              "      <td>...</td>\n",
              "      <td>...</td>\n",
              "      <td>...</td>\n",
              "      <td>...</td>\n",
              "      <td>...</td>\n",
              "      <td>...</td>\n",
              "      <td>...</td>\n",
              "      <td>...</td>\n",
              "      <td>...</td>\n",
              "      <td>...</td>\n",
              "      <td>...</td>\n",
              "      <td>...</td>\n",
              "      <td>...</td>\n",
              "    </tr>\n",
              "    <tr>\n",
              "      <th>115059</th>\n",
              "      <td>45</td>\n",
              "      <td>93</td>\n",
              "      <td>0</td>\n",
              "      <td>76.06</td>\n",
              "      <td>3.804</td>\n",
              "      <td>177.314094</td>\n",
              "      <td>6.879006</td>\n",
              "      <td>30</td>\n",
              "      <td>4</td>\n",
              "      <td>7</td>\n",
              "      <td>2013</td>\n",
              "      <td>26</td>\n",
              "      <td>7142.8049</td>\n",
              "    </tr>\n",
              "    <tr>\n",
              "      <th>115060</th>\n",
              "      <td>45</td>\n",
              "      <td>94</td>\n",
              "      <td>0</td>\n",
              "      <td>76.06</td>\n",
              "      <td>3.804</td>\n",
              "      <td>177.314094</td>\n",
              "      <td>6.879006</td>\n",
              "      <td>30</td>\n",
              "      <td>4</td>\n",
              "      <td>7</td>\n",
              "      <td>2013</td>\n",
              "      <td>26</td>\n",
              "      <td>13352.0956</td>\n",
              "    </tr>\n",
              "    <tr>\n",
              "      <th>115061</th>\n",
              "      <td>45</td>\n",
              "      <td>95</td>\n",
              "      <td>0</td>\n",
              "      <td>76.06</td>\n",
              "      <td>3.804</td>\n",
              "      <td>177.314094</td>\n",
              "      <td>6.879006</td>\n",
              "      <td>30</td>\n",
              "      <td>4</td>\n",
              "      <td>7</td>\n",
              "      <td>2013</td>\n",
              "      <td>26</td>\n",
              "      <td>50342.3045</td>\n",
              "    </tr>\n",
              "    <tr>\n",
              "      <th>115062</th>\n",
              "      <td>45</td>\n",
              "      <td>97</td>\n",
              "      <td>0</td>\n",
              "      <td>76.06</td>\n",
              "      <td>3.804</td>\n",
              "      <td>177.314094</td>\n",
              "      <td>6.879006</td>\n",
              "      <td>30</td>\n",
              "      <td>4</td>\n",
              "      <td>7</td>\n",
              "      <td>2013</td>\n",
              "      <td>26</td>\n",
              "      <td>7156.9468</td>\n",
              "    </tr>\n",
              "    <tr>\n",
              "      <th>115063</th>\n",
              "      <td>45</td>\n",
              "      <td>98</td>\n",
              "      <td>0</td>\n",
              "      <td>76.06</td>\n",
              "      <td>3.804</td>\n",
              "      <td>177.314094</td>\n",
              "      <td>6.879006</td>\n",
              "      <td>30</td>\n",
              "      <td>4</td>\n",
              "      <td>7</td>\n",
              "      <td>2013</td>\n",
              "      <td>26</td>\n",
              "      <td>1060.6689</td>\n",
              "    </tr>\n",
              "  </tbody>\n",
              "</table>\n",
              "<p>115064 rows × 13 columns</p>\n",
              "</div>"
            ],
            "text/plain": [
              "        Store  Dept  IsHoliday  ...  Year  Day  Weekly_Sales_Estimated\n",
              "0           1     1          0  ...  2012    2              27814.8137\n",
              "1           1     2          0  ...  2012    2              48712.6384\n",
              "2           1     3          0  ...  2012    2              10132.0493\n",
              "3           1     4          0  ...  2012    2              39047.7000\n",
              "4           1     5          0  ...  2012    2              28010.7377\n",
              "...       ...   ...        ...  ...   ...  ...                     ...\n",
              "115059     45    93          0  ...  2013   26               7142.8049\n",
              "115060     45    94          0  ...  2013   26              13352.0956\n",
              "115061     45    95          0  ...  2013   26              50342.3045\n",
              "115062     45    97          0  ...  2013   26               7156.9468\n",
              "115063     45    98          0  ...  2013   26               1060.6689\n",
              "\n",
              "[115064 rows x 13 columns]"
            ]
          },
          "metadata": {
            "tags": []
          },
          "execution_count": 54
        }
      ]
    },
    {
      "cell_type": "code",
      "metadata": {
        "id": "6CxDpON3zy3O",
        "colab_type": "code",
        "colab": {}
      },
      "source": [
        ""
      ],
      "execution_count": 0,
      "outputs": []
    },
    {
      "cell_type": "code",
      "metadata": {
        "id": "3kzke_PRz7YU",
        "colab_type": "code",
        "colab": {}
      },
      "source": [
        ""
      ],
      "execution_count": 0,
      "outputs": []
    },
    {
      "cell_type": "code",
      "metadata": {
        "id": "bJsngqWsz7bA",
        "colab_type": "code",
        "colab": {}
      },
      "source": [
        ""
      ],
      "execution_count": 0,
      "outputs": []
    },
    {
      "cell_type": "code",
      "metadata": {
        "id": "qTWKkoOcrNKF",
        "colab_type": "code",
        "colab": {}
      },
      "source": [
        "# DATA VISUALIZATION"
      ],
      "execution_count": 0,
      "outputs": []
    },
    {
      "cell_type": "code",
      "metadata": {
        "id": "6fh_xLrYh7-O",
        "colab_type": "code",
        "colab": {}
      },
      "source": [
        ""
      ],
      "execution_count": 0,
      "outputs": []
    },
    {
      "cell_type": "code",
      "metadata": {
        "id": "OUfqAphqcJ5z",
        "colab_type": "code",
        "colab": {
          "base_uri": "https://localhost:8080/",
          "height": 459
        },
        "outputId": "8cb9dcfc-0cb4-47dc-8496-bbebd32d846f"
      },
      "source": [
        "# Estimated sales for different stores\n",
        "\n",
        "plt.figure(figsize=(10,7))\n",
        "sns.barplot(x='Store',y='Weekly_Sales_Estimated',data=test_ft)"
      ],
      "execution_count": 59,
      "outputs": [
        {
          "output_type": "execute_result",
          "data": {
            "text/plain": [
              "<matplotlib.axes._subplots.AxesSubplot at 0x7ff410005940>"
            ]
          },
          "metadata": {
            "tags": []
          },
          "execution_count": 59
        },
        {
          "output_type": "display_data",
          "data": {
            "image/png": "[encoded data removed]",
            "text/plain": [
              "<Figure size 720x504 with 1 Axes>"
            ]
          },
          "metadata": {
            "tags": [],
            "needs_background": "light"
          }
        }
      ]
    },
    {
      "cell_type": "code",
      "metadata": {
        "id": "F_ZZqhjDhS7a",
        "colab_type": "code",
        "colab": {}
      },
      "source": [
        ""
      ],
      "execution_count": 0,
      "outputs": []
    },
    {
      "cell_type": "code",
      "metadata": {
        "id": "fv43dCHZe0IH",
        "colab_type": "code",
        "colab": {
          "base_uri": "https://localhost:8080/",
          "height": 445
        },
        "outputId": "bf03e5ea-edc9-48d6-ba66-b3ae4ed3e1e1"
      },
      "source": [
        "# Estimated sales for different departments\n",
        "\n",
        "plt.figure(figsize=(25,7))\n",
        "sns.barplot(x='Dept',y='Weekly_Sales_Estimated',data=test_ft)"
      ],
      "execution_count": 66,
      "outputs": [
        {
          "output_type": "execute_result",
          "data": {
            "text/plain": [
              "<matplotlib.axes._subplots.AxesSubplot at 0x7ff409ce09e8>"
            ]
          },
          "metadata": {
            "tags": []
          },
          "execution_count": 66
        },
        {
          "output_type": "display_data",
          "data": {
            "image/png": "[encoded data removed]",
            "text/plain": [
              "<Figure size 1800x504 with 1 Axes>"
            ]
          },
          "metadata": {
            "tags": [],
            "needs_background": "light"
          }
        }
      ]
    },
    {
      "cell_type": "code",
      "metadata": {
        "id": "yRIw8fxch_oS",
        "colab_type": "code",
        "colab": {}
      },
      "source": [
        ""
      ],
      "execution_count": 0,
      "outputs": []
    },
    {
      "cell_type": "code",
      "metadata": {
        "id": "CTNbBNipjdRT",
        "colab_type": "code",
        "colab": {
          "base_uri": "https://localhost:8080/",
          "height": 296
        },
        "outputId": "0ca76c29-70de-4603-e011-03cc2ed57355"
      },
      "source": [
        "# Weekly Sales are higher on holidays\n",
        "sns.barplot(x='IsHoliday',y='Weekly_Sales_Estimated', data=test_ft) "
      ],
      "execution_count": 70,
      "outputs": [
        {
          "output_type": "execute_result",
          "data": {
            "text/plain": [
              "<matplotlib.axes._subplots.AxesSubplot at 0x7ff407ed6b38>"
            ]
          },
          "metadata": {
            "tags": []
          },
          "execution_count": 70
        },
        {
          "output_type": "display_data",
          "data": {
            "image/png": "[encoded data removed]",
            "text/plain": [
              "<Figure size 432x288 with 1 Axes>"
            ]
          },
          "metadata": {
            "tags": [],
            "needs_background": "light"
          }
        }
      ]
    },
    {
      "cell_type": "code",
      "metadata": {
        "id": "OctPzT0Qsgqn",
        "colab_type": "code",
        "colab": {}
      },
      "source": [
        ""
      ],
      "execution_count": 0,
      "outputs": []
    },
    {
      "cell_type": "code",
      "metadata": {
        "id": "Ib-kPQ1Dsobk",
        "colab_type": "code",
        "colab": {
          "base_uri": "https://localhost:8080/",
          "height": 296
        },
        "outputId": "9dd6e657-87bf-4a2d-fda3-006ff1370f5e"
      },
      "source": [
        "\n",
        "bins = [0, 20, 40, 60, 80, np.inf]\n",
        "labels = ['Very low', 'Low', 'Medium', 'High', 'Very High']\n",
        "xlab= pd.cut(test_ft['Temperature'], bins)\n",
        "plt.xlabel('Temperature')\n",
        "plt.ylabel('Weekly_Sales_Estimated')\n",
        "sns.barplot(x=xlab, y='Weekly_Sales_Estimated', data=test_ft)\n"
      ],
      "execution_count": 94,
      "outputs": [
        {
          "output_type": "execute_result",
          "data": {
            "text/plain": [
              "<matplotlib.axes._subplots.AxesSubplot at 0x7ff4055c6c50>"
            ]
          },
          "metadata": {
            "tags": []
          },
          "execution_count": 94
        },
        {
          "output_type": "display_data",
          "data": {
            "image/png": "[encoded data removed]",
            "text/plain": [
              "<Figure size 432x288 with 1 Axes>"
            ]
          },
          "metadata": {
            "tags": [],
            "needs_background": "light"
          }
        }
      ]
    },
    {
      "cell_type": "code",
      "metadata": {
        "id": "3QFjG4faxAx6",
        "colab_type": "code",
        "colab": {}
      },
      "source": [
        ""
      ],
      "execution_count": 0,
      "outputs": []
    },
    {
      "cell_type": "code",
      "metadata": {
        "id": "Jhgcb0fFw2Z2",
        "colab_type": "code",
        "colab": {
          "base_uri": "https://localhost:8080/",
          "height": 297
        },
        "outputId": "c847ab83-bf30-43e9-85dc-8b2fb85216cc"
      },
      "source": [
        "bins = [0, 2, 2.5, 3, 3.5, 4,np.inf]\n",
        "labels = ['Very low', 'Low', 'Medium', 'High', 'Very High','Huge']\n",
        "xlab= pd.cut(test_ft['Fuel_Price'],bins)\n",
        "plt.xlabel('Fuel_prices')\n",
        "plt.ylabel('Predicted Weekly Sales')\n",
        "sns.barplot(x=xlab, y='Weekly_Sales_Estimated', data=test_ft)\n"
      ],
      "execution_count": 93,
      "outputs": [
        {
          "output_type": "execute_result",
          "data": {
            "text/plain": [
              "<matplotlib.axes._subplots.AxesSubplot at 0x7ff40727b2b0>"
            ]
          },
          "metadata": {
            "tags": []
          },
          "execution_count": 93
        },
        {
          "output_type": "display_data",
          "data": {
            "image/png": "[encoded data removed]",
            "text/plain": [
              "<Figure size 432x288 with 1 Axes>"
            ]
          },
          "metadata": {
            "tags": [],
            "needs_background": "light"
          }
        }
      ]
    },
    {
      "cell_type": "code",
      "metadata": {
        "id": "bB7RZziuxCIg",
        "colab_type": "code",
        "colab": {}
      },
      "source": [
        ""
      ],
      "execution_count": 0,
      "outputs": []
    },
    {
      "cell_type": "code",
      "metadata": {
        "id": "1q4kuLWnw2n5",
        "colab_type": "code",
        "colab": {}
      },
      "source": [
        ""
      ],
      "execution_count": 0,
      "outputs": []
    },
    {
      "cell_type": "code",
      "metadata": {
        "id": "-h90jWDn0ILd",
        "colab_type": "code",
        "colab": {}
      },
      "source": [
        ""
      ],
      "execution_count": 0,
      "outputs": []
    },
    {
      "cell_type": "code",
      "metadata": {
        "id": "YItl-tYezPDG",
        "colab_type": "code",
        "colab": {
          "base_uri": "https://localhost:8080/",
          "height": 296
        },
        "outputId": "79f909de-e9ad-4413-c822-64e519ff8432"
      },
      "source": [
        "sns.barplot(x='Month',y='Weekly_Sales_Estimated',data=test_ft)"
      ],
      "execution_count": 105,
      "outputs": [
        {
          "output_type": "execute_result",
          "data": {
            "text/plain": [
              "<matplotlib.axes._subplots.AxesSubplot at 0x7ff3fa2a1da0>"
            ]
          },
          "metadata": {
            "tags": []
          },
          "execution_count": 105
        },
        {
          "output_type": "display_data",
          "data": {
            "image/png": "[encoded data removed]",
            "text/plain": [
              "<Figure size 432x288 with 1 Axes>"
            ]
          },
          "metadata": {
            "tags": [],
            "needs_background": "light"
          }
        }
      ]
    },
    {
      "cell_type": "code",
      "metadata": {
        "id": "7qCxnLRh0voS",
        "colab_type": "code",
        "colab": {}
      },
      "source": [
        ""
      ],
      "execution_count": 0,
      "outputs": []
    },
    {
      "cell_type": "code",
      "metadata": {
        "id": "YELMT5Ui0x-V",
        "colab_type": "code",
        "colab": {}
      },
      "source": [
        ""
      ],
      "execution_count": 0,
      "outputs": []
    },
    {
      "cell_type": "code",
      "metadata": {
        "id": "kKdDhjbF0zua",
        "colab_type": "code",
        "colab": {}
      },
      "source": [
        ""
      ],
      "execution_count": 0,
      "outputs": []
    },
    {
      "cell_type": "code",
      "metadata": {
        "id": "LaDxsqkuyC1Q",
        "colab_type": "code",
        "colab": {}
      },
      "source": [
        ""
      ],
      "execution_count": 0,
      "outputs": []
    }
  ]
}